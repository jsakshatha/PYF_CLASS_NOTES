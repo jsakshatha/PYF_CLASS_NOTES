{
 "cells": [
  {
   "cell_type": "code",
   "execution_count": 1,
   "id": "5901064f-4b52-4a93-9a3e-161671f47bb8",
   "metadata": {},
   "outputs": [
    {
     "name": "stdout",
     "output_type": "stream",
     "text": [
      "shortcut to execute:--- shift+enter\n"
     ]
    }
   ],
   "source": [
    "print(\"shortcut to execute:--- shift+enter\")"
   ]
  },
  {
   "cell_type": "markdown",
   "id": "647cf66a-d82e-407c-b780-b4c7d4c0a627",
   "metadata": {},
   "source": [
    "# print function"
   ]
  },
  {
   "cell_type": "code",
   "execution_count": 6,
   "id": "5681d380-fa98-4396-af14-820bfc2cea8e",
   "metadata": {},
   "outputs": [
    {
     "name": "stdout",
     "output_type": "stream",
     "text": [
      "happy diwali\n"
     ]
    }
   ],
   "source": [
    "print(\"happy diwali\")"
   ]
  },
  {
   "cell_type": "code",
   "execution_count": 3,
   "id": "4c96917f-4378-469b-8227-7f7ef70ca86c",
   "metadata": {},
   "outputs": [
    {
     "name": "stdout",
     "output_type": "stream",
     "text": [
      "my name is Rohit\n"
     ]
    }
   ],
   "source": [
    "name=\"Rohit\"\n",
    "print(\"my name is\",name)"
   ]
  },
  {
   "cell_type": "code",
   "execution_count": 7,
   "id": "9db65b10-e6db-4b1a-9cf8-cc7e5e4852d5",
   "metadata": {},
   "outputs": [
    {
     "name": "stdout",
     "output_type": "stream",
     "text": [
      "the value of a is  5\n",
      "a= 5\n",
      "the value of a is  5 and value of b is 7\n"
     ]
    }
   ],
   "source": [
    "a=5\n",
    "b=7\n",
    "print(\"the value of a is \",a)\n",
    "print(\"a=\",a)\n",
    "print(\"the value of a is \",a,\"and value of b is\",b)"
   ]
  },
  {
   "cell_type": "markdown",
   "id": "79fb2723-c1c5-4985-8399-d93611f67155",
   "metadata": {},
   "source": [
    "##### f-string in print function"
   ]
  },
  {
   "cell_type": "code",
   "execution_count": 9,
   "id": "3d4e7ae3-922c-4f03-bcf9-fa80b188ae95",
   "metadata": {},
   "outputs": [
    {
     "name": "stdout",
     "output_type": "stream",
     "text": [
      "the value of a is 5 and value of b is 7\n"
     ]
    }
   ],
   "source": [
    "print(f\"the value of a is {a} and value of b is {b}\")"
   ]
  },
  {
   "cell_type": "markdown",
   "id": "1211a05c-d411-446a-aa86-5b7e48804ef8",
   "metadata": {},
   "source": [
    "### Write a program to print this statement using f-string\n",
    "##### my first name is Akshatha and last name is shettigar"
   ]
  },
  {
   "cell_type": "code",
   "execution_count": 11,
   "id": "814a7893-978e-482e-bda8-783a1f7f612d",
   "metadata": {},
   "outputs": [
    {
     "name": "stdout",
     "output_type": "stream",
     "text": [
      "my first name isAkshatha and last name is shettigar\n"
     ]
    }
   ],
   "source": [
    "fname=\"Akshatha\"\n",
    "lname=\"shettigar\"\n",
    "print(f\"my first name is{fname} and last name is {lname}\")"
   ]
  },
  {
   "cell_type": "markdown",
   "id": "8eacafe6-7b59-4d2f-bee8-464c38f01de0",
   "metadata": {},
   "source": [
    "## type function\n",
    " returns the type of data"
   ]
  },
  {
   "cell_type": "code",
   "execution_count": 12,
   "id": "c87851a2-b94f-452c-8fd0-34e951b89741",
   "metadata": {},
   "outputs": [
    {
     "data": {
      "text/plain": [
       "5"
      ]
     },
     "execution_count": 12,
     "metadata": {},
     "output_type": "execute_result"
    }
   ],
   "source": [
    "a"
   ]
  },
  {
   "cell_type": "code",
   "execution_count": 13,
   "id": "09b5a2f5-74a5-4029-b4c0-21d160b40edd",
   "metadata": {},
   "outputs": [
    {
     "data": {
      "text/plain": [
       "int"
      ]
     },
     "execution_count": 13,
     "metadata": {},
     "output_type": "execute_result"
    }
   ],
   "source": [
    "type(a)"
   ]
  },
  {
   "cell_type": "code",
   "execution_count": 14,
   "id": "cdafc0c8-f0a7-498c-91d1-a5dea62e43e8",
   "metadata": {},
   "outputs": [
    {
     "data": {
      "text/plain": [
       "str"
      ]
     },
     "execution_count": 14,
     "metadata": {},
     "output_type": "execute_result"
    }
   ],
   "source": [
    "type(fname)"
   ]
  },
  {
   "cell_type": "code",
   "execution_count": null,
   "id": "b2dadba7-356c-4e8e-9094-489c4710d8b6",
   "metadata": {},
   "outputs": [],
   "source": [
    "type(34.6666)"
   ]
  },
  {
   "cell_type": "code",
   "execution_count": 16,
   "id": "1838ead7-ccd4-48e2-98c0-38a436420e79",
   "metadata": {},
   "outputs": [
    {
     "data": {
      "text/plain": [
       "bool"
      ]
     },
     "execution_count": 16,
     "metadata": {},
     "output_type": "execute_result"
    }
   ],
   "source": [
    "z=True\n",
    "type(z)"
   ]
  },
  {
   "cell_type": "code",
   "execution_count": null,
   "id": "b4483f3d-a3d0-4756-971e-48cded190c4f",
   "metadata": {},
   "outputs": [],
   "source": [
    "type(False)"
   ]
  },
  {
   "cell_type": "markdown",
   "id": "ef0c7d47-10ef-43af-ba07-a2edc265f97e",
   "metadata": {},
   "source": [
    "# Keywords\n",
    "reserved words"
   ]
  },
  {
   "cell_type": "code",
   "execution_count": 17,
   "id": "07ca1a7a-e4ca-4671-94fb-b9b0f4e4ce35",
   "metadata": {},
   "outputs": [
    {
     "name": "stdout",
     "output_type": "stream",
     "text": [
      "\n",
      "Here is a list of the Python keywords.  Enter any keyword to get more help.\n",
      "\n",
      "False               class               from                or\n",
      "None                continue            global              pass\n",
      "True                def                 if                  raise\n",
      "and                 del                 import              return\n",
      "as                  elif                in                  try\n",
      "assert              else                is                  while\n",
      "async               except              lambda              with\n",
      "await               finally             nonlocal            yield\n",
      "break               for                 not                 \n",
      "\n"
     ]
    }
   ],
   "source": [
    "help(\"keywords\")"
   ]
  },
  {
   "cell_type": "markdown",
   "id": "c3df839d-1b16-4900-aad7-4447cddcba51",
   "metadata": {},
   "source": [
    "# Variables"
   ]
  },
  {
   "cell_type": "markdown",
   "id": "e0683453-1711-44bf-beda-aa20f7107375",
   "metadata": {},
   "source": [
    "**1.variable name should not contain keyword or predefined function**"
   ]
  },
  {
   "cell_type": "code",
   "execution_count": null,
   "id": "2fa8dba2-6732-43ec-932c-2ad588cc571b",
   "metadata": {},
   "outputs": [],
   "source": [
    "fruit=\"apple\"\n",
    "import=123\n",
    "print=223"
   ]
  },
  {
   "cell_type": "markdown",
   "id": "f75f00a2-c101-498b-bc31-5809312640bf",
   "metadata": {},
   "source": [
    "**2.variable name should not start with numbers**"
   ]
  },
  {
   "cell_type": "code",
   "execution_count": 19,
   "id": "44ab7ab4-ed7d-44fa-b4c1-b06c17f97d72",
   "metadata": {},
   "outputs": [
    {
     "ename": "<class 'SyntaxError'>",
     "evalue": "invalid decimal literal (<ipython-input-19-8deebf9f4384>, line 1)",
     "output_type": "error",
     "traceback": [
      "\u001b[0;36m  Cell \u001b[0;32mIn[19], line 1\u001b[0;36m\u001b[0m\n\u001b[0;31m    3fname=\"roshan\"\u001b[0m\n\u001b[0m    ^\u001b[0m\n\u001b[0;31mSyntaxError\u001b[0m\u001b[0;31m:\u001b[0m invalid decimal literal\n"
     ]
    }
   ],
   "source": [
    "3fname=\"roshan\""
   ]
  },
  {
   "cell_type": "code",
   "execution_count": 20,
   "id": "f830f7c9-8118-4c92-b0c3-a3e6f9ef7597",
   "metadata": {},
   "outputs": [
    {
     "name": "stdout",
     "output_type": "stream",
     "text": [
      "roshan\n"
     ]
    }
   ],
   "source": [
    "fname3=\"roshan\"\n",
    "print(fname3)"
   ]
  },
  {
   "cell_type": "markdown",
   "id": "13b975c5-6bd9-4bae-b0f0-67e786faedd4",
   "metadata": {},
   "source": [
    "**3.variable name should not contain any special characters except underscore**"
   ]
  },
  {
   "cell_type": "code",
   "execution_count": 22,
   "id": "66e5cd6a-1713-49f8-85f4-9f9e96fe3124",
   "metadata": {},
   "outputs": [
    {
     "ename": "<class 'SyntaxError'>",
     "evalue": "invalid syntax (<ipython-input-22-fc9949b83eb4>, line 1)",
     "output_type": "error",
     "traceback": [
      "\u001b[0;36m  Cell \u001b[0;32mIn[22], line 1\u001b[0;36m\u001b[0m\n\u001b[0;31m    fname$=45\u001b[0m\n\u001b[0m         ^\u001b[0m\n\u001b[0;31mSyntaxError\u001b[0m\u001b[0;31m:\u001b[0m invalid syntax\n"
     ]
    }
   ],
   "source": [
    "fname$=45"
   ]
  },
  {
   "cell_type": "code",
   "execution_count": 23,
   "id": "b044c1e4-81d5-4769-92c4-c999bf096333",
   "metadata": {},
   "outputs": [
    {
     "ename": "<class 'SyntaxError'>",
     "evalue": "invalid syntax (<ipython-input-23-c28324adbf9e>, line 1)",
     "output_type": "error",
     "traceback": [
      "\u001b[0;36m  Cell \u001b[0;32mIn[23], line 1\u001b[0;36m\u001b[0m\n\u001b[0;31m    user name=\"anusha\"\u001b[0m\n\u001b[0m         ^\u001b[0m\n\u001b[0;31mSyntaxError\u001b[0m\u001b[0;31m:\u001b[0m invalid syntax\n"
     ]
    }
   ],
   "source": [
    "user name=\"anusha\""
   ]
  },
  {
   "cell_type": "code",
   "execution_count": 24,
   "id": "0afa2d57-efe9-4996-bf7d-0eaefd22b599",
   "metadata": {},
   "outputs": [],
   "source": [
    "user_name=\"anusha\""
   ]
  },
  {
   "cell_type": "code",
   "execution_count": 25,
   "id": "53361897-5321-408d-afe6-4dcd95a64307",
   "metadata": {},
   "outputs": [],
   "source": [
    "_fruit=\"grapes\""
   ]
  },
  {
   "cell_type": "code",
   "execution_count": 26,
   "id": "3c783b12-9866-47e3-befc-c9b4820ebbee",
   "metadata": {},
   "outputs": [
    {
     "name": "stdout",
     "output_type": "stream",
     "text": [
      "100\n"
     ]
    }
   ],
   "source": [
    "_=100\n",
    "print(_)"
   ]
  },
  {
   "cell_type": "code",
   "execution_count": 27,
   "id": "5b853414-673d-482d-9cbf-7809fd44a86f",
   "metadata": {},
   "outputs": [
    {
     "data": {
      "text/plain": [
       "'/drive'"
      ]
     },
     "execution_count": 27,
     "metadata": {},
     "output_type": "execute_result"
    }
   ],
   "source": [
    "pwd"
   ]
  },
  {
   "cell_type": "markdown",
   "id": "9c1c344b-f76f-4f3d-886d-c981d76b9e06",
   "metadata": {},
   "source": [
    "### 22-oct-2025"
   ]
  },
  {
   "cell_type": "code",
   "execution_count": 2,
   "id": "276bd8ac-476b-42ef-8eee-e46dde320304",
   "metadata": {},
   "outputs": [
    {
     "name": "stdout",
     "output_type": "stream",
     "text": [
      "orange\n"
     ]
    }
   ],
   "source": [
    "fruit=\"apple\"\n",
    "Fruit=\"orange\"\n",
    "print(Fruit)"
   ]
  },
  {
   "cell_type": "code",
   "execution_count": 4,
   "id": "74769e7b-40b4-48e1-a2dc-ebd34eaad409",
   "metadata": {},
   "outputs": [
    {
     "ename": "NameError",
     "evalue": "name 'FRUIT' is not defined",
     "output_type": "error",
     "traceback": [
      "\u001b[31m---------------------------------------------------------------------------\u001b[39m",
      "\u001b[31mNameError\u001b[39m                                 Traceback (most recent call last)",
      "\u001b[36mCell\u001b[39m\u001b[36m \u001b[39m\u001b[32mIn[4]\u001b[39m\u001b[32m, line 1\u001b[39m\n\u001b[32m----> \u001b[39m\u001b[32m1\u001b[39m \u001b[38;5;28mprint\u001b[39m(FRUIT)\n",
      "\u001b[31mNameError\u001b[39m: name 'FRUIT' is not defined"
     ]
    }
   ],
   "source": [
    "print(FRUIT)"
   ]
  },
  {
   "cell_type": "markdown",
   "id": "d6789e20-f79b-4130-ad02-99b0312133f1",
   "metadata": {},
   "source": [
    "## Assigning the values to the varaiable"
   ]
  },
  {
   "cell_type": "code",
   "execution_count": null,
   "id": "48d89b0e-6e68-447f-8bd0-f476b5daee9a",
   "metadata": {},
   "outputs": [],
   "source": [
    "a=12\n",
    "b=True\n",
    "c=\"data\""
   ]
  },
  {
   "cell_type": "code",
   "execution_count": 7,
   "id": "f8b0f70d-f0bf-43d8-bc16-ca043bfdc996",
   "metadata": {},
   "outputs": [],
   "source": [
    "a,b,c=12,True,\"data\""
   ]
  },
  {
   "cell_type": "code",
   "execution_count": 9,
   "id": "6204dffe-b135-4562-954c-4debd72e989e",
   "metadata": {},
   "outputs": [
    {
     "name": "stdout",
     "output_type": "stream",
     "text": [
      "12\n",
      "True\n",
      "12 True data\n"
     ]
    }
   ],
   "source": [
    "print(a)\n",
    "print(b)\n",
    "print(a,b,c)"
   ]
  },
  {
   "cell_type": "code",
   "execution_count": 11,
   "id": "93dc6273-c4c0-42a4-9136-cbe725a3f6d1",
   "metadata": {},
   "outputs": [],
   "source": [
    "x=y=z=100"
   ]
  },
  {
   "cell_type": "code",
   "execution_count": 13,
   "id": "dbe8f50a-e515-4d14-889d-2bfc43325bce",
   "metadata": {},
   "outputs": [
    {
     "name": "stdout",
     "output_type": "stream",
     "text": [
      "100\n",
      "100 100\n"
     ]
    }
   ],
   "source": [
    "print(x)\n",
    "print(x,z)"
   ]
  },
  {
   "cell_type": "code",
   "execution_count": 15,
   "id": "663d78a1-cef4-4aa2-9592-25c822b044e4",
   "metadata": {},
   "outputs": [
    {
     "name": "stdout",
     "output_type": "stream",
     "text": [
      "<class 'int'> <class 'bool'> <class 'str'>\n"
     ]
    }
   ],
   "source": [
    "print(type(a),type(b),type(c))"
   ]
  },
  {
   "cell_type": "code",
   "execution_count": 17,
   "id": "654a3a97-93be-4d91-8566-fe24a69e47dc",
   "metadata": {},
   "outputs": [
    {
     "name": "stdout",
     "output_type": "stream",
     "text": [
      "<class 'int'> <class 'int'> <class 'int'>\n"
     ]
    }
   ],
   "source": [
    "print(type(x),type(y),type(z))"
   ]
  },
  {
   "cell_type": "markdown",
   "id": "4f6c7d91-b462-45a4-b3d0-f31fe8a1bffe",
   "metadata": {},
   "source": [
    "## Calling a Varaiable"
   ]
  },
  {
   "cell_type": "code",
   "execution_count": 27,
   "id": "ce83d231-a987-4807-8dc2-d82cdf2c0732",
   "metadata": {},
   "outputs": [
    {
     "data": {
      "text/plain": [
       "'Bangalore'"
      ]
     },
     "execution_count": 27,
     "metadata": {},
     "output_type": "execute_result"
    }
   ],
   "source": [
    "city=\"Bangalore\"\n",
    "city"
   ]
  },
  {
   "cell_type": "code",
   "execution_count": 29,
   "id": "f5aac045-a37c-405b-b6b0-f2bf10625328",
   "metadata": {},
   "outputs": [
    {
     "data": {
      "text/plain": [
       "100"
      ]
     },
     "execution_count": 29,
     "metadata": {},
     "output_type": "execute_result"
    }
   ],
   "source": [
    "x"
   ]
  },
  {
   "cell_type": "code",
   "execution_count": 31,
   "id": "c2bacd77-fd4c-4119-8d3c-9baa01d0b364",
   "metadata": {},
   "outputs": [
    {
     "ename": "NameError",
     "evalue": "name 's' is not defined",
     "output_type": "error",
     "traceback": [
      "\u001b[31m---------------------------------------------------------------------------\u001b[39m",
      "\u001b[31mNameError\u001b[39m                                 Traceback (most recent call last)",
      "\u001b[36mCell\u001b[39m\u001b[36m \u001b[39m\u001b[32mIn[31]\u001b[39m\u001b[32m, line 1\u001b[39m\n\u001b[32m----> \u001b[39m\u001b[32m1\u001b[39m s\n",
      "\u001b[31mNameError\u001b[39m: name 's' is not defined"
     ]
    }
   ],
   "source": [
    "s"
   ]
  },
  {
   "cell_type": "code",
   "execution_count": 41,
   "id": "b4498f7f-04c5-4728-9ee3-fe91ceb23154",
   "metadata": {},
   "outputs": [
    {
     "name": "stdout",
     "output_type": "stream",
     "text": [
      "23\n"
     ]
    },
    {
     "data": {
      "text/plain": [
       "23"
      ]
     },
     "execution_count": 41,
     "metadata": {},
     "output_type": "execute_result"
    }
   ],
   "source": [
    "name=\"Rahul\"\n",
    "name\n",
    "age=23\n",
    "print(age)\n",
    "name\n",
    "age"
   ]
  },
  {
   "cell_type": "code",
   "execution_count": 47,
   "id": "e0157ae8-4476-4b26-9cd0-9e16fe6e17d2",
   "metadata": {},
   "outputs": [
    {
     "name": "stdout",
     "output_type": "stream",
     "text": [
      "<class 'str'>\n",
      "23\n"
     ]
    },
    {
     "data": {
      "text/plain": [
       "int"
      ]
     },
     "execution_count": 47,
     "metadata": {},
     "output_type": "execute_result"
    }
   ],
   "source": [
    "name=\"Rahul\"\n",
    "age=23\n",
    "print(type(name))\n",
    "print(age)\n",
    "type(age)"
   ]
  },
  {
   "cell_type": "code",
   "execution_count": 49,
   "id": "daf4ccd8-7da8-498a-b371-c6847d9cba2e",
   "metadata": {},
   "outputs": [
    {
     "data": {
      "text/plain": [
       "int"
      ]
     },
     "execution_count": 49,
     "metadata": {},
     "output_type": "execute_result"
    }
   ],
   "source": [
    "type(z)"
   ]
  },
  {
   "cell_type": "markdown",
   "id": "77a732a0-9a8f-4166-a8b1-eb2a2e4dc56e",
   "metadata": {},
   "source": [
    "## Comments\n",
    "\n",
    "- comments are non executable code\n",
    "- types\n",
    "    - single line Comments\n",
    "    - Multi-line comments"
   ]
  },
  {
   "cell_type": "code",
   "execution_count": 52,
   "id": "11d23353-fb29-42b1-ae52-b17daef8b932",
   "metadata": {},
   "outputs": [
    {
     "data": {
      "text/plain": [
       "'rohit'"
      ]
     },
     "execution_count": 52,
     "metadata": {},
     "output_type": "execute_result"
    }
   ],
   "source": [
    "emp_name=\"rohit\" # rohit is a data and stored in variable emp_name\n",
    "emp_name # calling a variable"
   ]
  },
  {
   "cell_type": "code",
   "execution_count": 54,
   "id": "a11d8ccf-59d0-4c23-89ab-f32b498e747e",
   "metadata": {},
   "outputs": [
    {
     "data": {
      "text/plain": [
       "'rohit'"
      ]
     },
     "execution_count": 54,
     "metadata": {},
     "output_type": "execute_result"
    }
   ],
   "source": [
    "emp_age=34\n",
    "emp_age # callina a var should be in the last line\n",
    "emp_name #  executes bcoz,callina a variable is in last line"
   ]
  },
  {
   "cell_type": "code",
   "execution_count": null,
   "id": "bbbdc4dc-0c95-438c-838d-969e300863df",
   "metadata": {},
   "outputs": [],
   "source": [
    "type(emp_age) # no error,no output \n",
    "type(emp_name) # callina a function"
   ]
  },
  {
   "cell_type": "code",
   "execution_count": 58,
   "id": "09391b7e-da54-4a8f-bad6-4677f871d530",
   "metadata": {},
   "outputs": [
    {
     "name": "stdout",
     "output_type": "stream",
     "text": [
      "a+b= 7\n",
      "a-b= 3\n",
      "a*b= 10\n",
      "a/b= 2.5\n",
      "a//b= 2\n",
      "a power of b= 25\n",
      "a mod of b 1\n"
     ]
    }
   ],
   "source": [
    "\"\"\" write a program to perform \n",
    "mathematical calculations,\n",
    "add,sub,mul,div,mod,power,floor\"\"\"\n",
    "\n",
    "a=5\n",
    "b=2\n",
    "print(\"a+b=\",a+b)\n",
    "print(\"a-b=\",a-b)\n",
    "print(\"a*b=\",a*b)\n",
    "print(\"a/b=\",a/b)\n",
    "print(\"a//b=\",a//b)  # floor operator-performs division and returns only integer value\n",
    "print(\"a power of b=\",a**b)\n",
    "print(\"a mod of b\",a%b) # returns the remainder value\n",
    "\n"
   ]
  },
  {
   "cell_type": "markdown",
   "id": "b48d3a77-9e37-468f-8539-45e4e434904d",
   "metadata": {},
   "source": [
    "## Bool Function"
   ]
  },
  {
   "cell_type": "code",
   "execution_count": 61,
   "id": "f343ae34-c97f-4f87-af0f-d94f00f3cf2f",
   "metadata": {},
   "outputs": [
    {
     "data": {
      "text/plain": [
       "True"
      ]
     },
     "execution_count": 61,
     "metadata": {},
     "output_type": "execute_result"
    }
   ],
   "source": [
    "bool(12)"
   ]
  },
  {
   "cell_type": "code",
   "execution_count": 63,
   "id": "4ab113c6-b38c-48f8-af16-429c56e7add5",
   "metadata": {},
   "outputs": [
    {
     "data": {
      "text/plain": [
       "False"
      ]
     },
     "execution_count": 63,
     "metadata": {},
     "output_type": "execute_result"
    }
   ],
   "source": [
    "bool(0) # bool of any value is true,except zero"
   ]
  },
  {
   "cell_type": "code",
   "execution_count": 65,
   "id": "8600628a-5dda-449b-be69-2486d0ceb2c7",
   "metadata": {},
   "outputs": [
    {
     "data": {
      "text/plain": [
       "True"
      ]
     },
     "execution_count": 65,
     "metadata": {},
     "output_type": "execute_result"
    }
   ],
   "source": [
    "bool(-1)"
   ]
  },
  {
   "cell_type": "code",
   "execution_count": 67,
   "id": "f68bed21-f79c-4130-aac9-7f6d600c56c6",
   "metadata": {},
   "outputs": [
    {
     "data": {
      "text/plain": [
       "True"
      ]
     },
     "execution_count": 67,
     "metadata": {},
     "output_type": "execute_result"
    }
   ],
   "source": [
    "bool(\"good morning\") # bool of non empty str is True"
   ]
  },
  {
   "cell_type": "code",
   "execution_count": 69,
   "id": "1135fbea-c1c3-4514-bcfd-3b9c290eb217",
   "metadata": {},
   "outputs": [
    {
     "data": {
      "text/plain": [
       "False"
      ]
     },
     "execution_count": 69,
     "metadata": {},
     "output_type": "execute_result"
    }
   ],
   "source": [
    "bool(\"\") # bool of empty str is always false"
   ]
  },
  {
   "cell_type": "code",
   "execution_count": 71,
   "id": "cba23d2e-074c-4346-87ec-dd920fcfba95",
   "metadata": {},
   "outputs": [
    {
     "data": {
      "text/plain": [
       "False"
      ]
     },
     "execution_count": 71,
     "metadata": {},
     "output_type": "execute_result"
    }
   ],
   "source": [
    "bool(0.00)"
   ]
  },
  {
   "cell_type": "code",
   "execution_count": 73,
   "id": "56f02584-2d26-4266-a7e1-b9d1457c2a7a",
   "metadata": {},
   "outputs": [
    {
     "data": {
      "text/plain": [
       "True"
      ]
     },
     "execution_count": 73,
     "metadata": {},
     "output_type": "execute_result"
    }
   ],
   "source": [
    "bool(12.30)"
   ]
  },
  {
   "cell_type": "code",
   "execution_count": 75,
   "id": "84cef4a5-72c2-45a6-9daf-9509ef77932d",
   "metadata": {},
   "outputs": [
    {
     "data": {
      "text/plain": [
       "True"
      ]
     },
     "execution_count": 75,
     "metadata": {},
     "output_type": "execute_result"
    }
   ],
   "source": [
    "bool(True)"
   ]
  },
  {
   "cell_type": "code",
   "execution_count": 77,
   "id": "190e73e3-7201-42f3-99b1-a806d9e4b5ea",
   "metadata": {},
   "outputs": [
    {
     "data": {
      "text/plain": [
       "False"
      ]
     },
     "execution_count": 77,
     "metadata": {},
     "output_type": "execute_result"
    }
   ],
   "source": [
    "bool(False)"
   ]
  },
  {
   "cell_type": "code",
   "execution_count": 79,
   "id": "5c1e00f0-445e-4b71-8677-eba7c14839a3",
   "metadata": {},
   "outputs": [
    {
     "data": {
      "text/plain": [
       "False"
      ]
     },
     "execution_count": 79,
     "metadata": {},
     "output_type": "execute_result"
    }
   ],
   "source": [
    "3>4"
   ]
  },
  {
   "cell_type": "code",
   "execution_count": 81,
   "id": "f0c45821-f59c-494f-ab95-c50c6eedaea0",
   "metadata": {},
   "outputs": [
    {
     "data": {
      "text/plain": [
       "True"
      ]
     },
     "execution_count": 81,
     "metadata": {},
     "output_type": "execute_result"
    }
   ],
   "source": [
    "1==1 # comparing"
   ]
  },
  {
   "cell_type": "code",
   "execution_count": null,
   "id": "6cc56893-cc37-40de-927c-1fe3f48c40f2",
   "metadata": {},
   "outputs": [],
   "source": [
    "a=5 # assigning a value"
   ]
  },
  {
   "cell_type": "code",
   "execution_count": 83,
   "id": "2b791f0f-c1eb-40d2-887d-4ca4bd2a369d",
   "metadata": {},
   "outputs": [
    {
     "data": {
      "text/plain": [
       "True"
      ]
     },
     "execution_count": 83,
     "metadata": {},
     "output_type": "execute_result"
    }
   ],
   "source": [
    "True==1 # True value is always one"
   ]
  },
  {
   "cell_type": "code",
   "execution_count": 85,
   "id": "0ebc41a6-be1b-4c94-a571-bc1db0dd73d9",
   "metadata": {},
   "outputs": [
    {
     "data": {
      "text/plain": [
       "False"
      ]
     },
     "execution_count": 85,
     "metadata": {},
     "output_type": "execute_result"
    }
   ],
   "source": [
    "True==0"
   ]
  },
  {
   "cell_type": "code",
   "execution_count": 91,
   "id": "ac32726e-4994-455d-857d-e0abbd5666d1",
   "metadata": {},
   "outputs": [
    {
     "data": {
      "text/plain": [
       "True"
      ]
     },
     "execution_count": 91,
     "metadata": {},
     "output_type": "execute_result"
    }
   ],
   "source": [
    "False==0 # False value is always zero"
   ]
  },
  {
   "cell_type": "code",
   "execution_count": 89,
   "id": "ae462e2f-ab28-4ff0-b83d-3593ace79004",
   "metadata": {},
   "outputs": [
    {
     "data": {
      "text/plain": [
       "False"
      ]
     },
     "execution_count": 89,
     "metadata": {},
     "output_type": "execute_result"
    }
   ],
   "source": [
    "False==1"
   ]
  },
  {
   "cell_type": "markdown",
   "id": "9e9d6392-b7d1-4d87-b990-0d35a55757bf",
   "metadata": {},
   "source": [
    "## String"
   ]
  },
  {
   "cell_type": "code",
   "execution_count": 94,
   "id": "c2144dd5-c9a4-404e-8f8e-ca3f7f4e8740",
   "metadata": {},
   "outputs": [],
   "source": [
    "fname=\"Akshatha \" # Declare a str var using \"\" or ''\n",
    "lname='shettigar'"
   ]
  },
  {
   "cell_type": "code",
   "execution_count": 96,
   "id": "05b4d8e7-2230-436b-ae67-16ff10482321",
   "metadata": {},
   "outputs": [
    {
     "data": {
      "text/plain": [
       "(str, str)"
      ]
     },
     "execution_count": 96,
     "metadata": {},
     "output_type": "execute_result"
    }
   ],
   "source": [
    "type(fname),type(lname)"
   ]
  },
  {
   "cell_type": "code",
   "execution_count": 98,
   "id": "e57fcca1-42a5-4b2e-a69a-4228868024e9",
   "metadata": {},
   "outputs": [
    {
     "data": {
      "text/plain": [
       "9"
      ]
     },
     "execution_count": 98,
     "metadata": {},
     "output_type": "execute_result"
    }
   ],
   "source": [
    "len(fname) # returns the number of characters"
   ]
  },
  {
   "cell_type": "code",
   "execution_count": 100,
   "id": "fa9fd4de-bf28-4b43-bd41-301fb04b0849",
   "metadata": {},
   "outputs": [],
   "source": [
    "full_name=fname+lname # concatination--str+str"
   ]
  },
  {
   "cell_type": "code",
   "execution_count": 102,
   "id": "54be03e7-71c5-4be5-aecf-8f58a4167f02",
   "metadata": {},
   "outputs": [
    {
     "data": {
      "text/plain": [
       "'Akshatha shettigar'"
      ]
     },
     "execution_count": 102,
     "metadata": {},
     "output_type": "execute_result"
    }
   ],
   "source": [
    "full_name"
   ]
  },
  {
   "cell_type": "markdown",
   "id": "89f6d1ff-a4fe-4224-bb03-d8de432fc35f",
   "metadata": {},
   "source": [
    "### String Indexing"
   ]
  },
  {
   "cell_type": "code",
   "execution_count": 2,
   "id": "e5b33c51-7ea9-47b5-a463-98858980cb54",
   "metadata": {},
   "outputs": [],
   "source": [
    "str1=\"PYTHON PROGRAM\""
   ]
  },
  {
   "cell_type": "code",
   "execution_count": 4,
   "id": "9dec7f51-8828-4d4e-bae6-123688319e2c",
   "metadata": {},
   "outputs": [
    {
     "data": {
      "text/plain": [
       "'H'"
      ]
     },
     "execution_count": 4,
     "metadata": {},
     "output_type": "execute_result"
    }
   ],
   "source": [
    "str1[3] # positive indexing"
   ]
  },
  {
   "cell_type": "code",
   "execution_count": 6,
   "id": "e3bc23f6-dd58-45ef-b45f-75c0f35cfe6b",
   "metadata": {},
   "outputs": [
    {
     "data": {
      "text/plain": [
       "' '"
      ]
     },
     "execution_count": 6,
     "metadata": {},
     "output_type": "execute_result"
    }
   ],
   "source": [
    "str1[6]"
   ]
  },
  {
   "cell_type": "code",
   "execution_count": 10,
   "id": "8c96a58c-8808-4d44-8106-c59d6cb22c79",
   "metadata": {},
   "outputs": [
    {
     "data": {
      "text/plain": [
       "'G'"
      ]
     },
     "execution_count": 10,
     "metadata": {},
     "output_type": "execute_result"
    }
   ],
   "source": [
    "str1[-4]"
   ]
  },
  {
   "cell_type": "code",
   "execution_count": 12,
   "id": "7198808f-6916-49fc-b53c-24a34408b716",
   "metadata": {},
   "outputs": [
    {
     "data": {
      "text/plain": [
       "'PYTHON PROGRAM'"
      ]
     },
     "execution_count": 12,
     "metadata": {},
     "output_type": "execute_result"
    }
   ],
   "source": [
    "str1[:] # by default start value is zero and stop value upto last char"
   ]
  },
  {
   "cell_type": "code",
   "execution_count": 14,
   "id": "ac8f6e2c-8e15-4769-9916-d1ff9862d348",
   "metadata": {},
   "outputs": [
    {
     "data": {
      "text/plain": [
       "'PYTHON '"
      ]
     },
     "execution_count": 14,
     "metadata": {},
     "output_type": "execute_result"
    }
   ],
   "source": [
    "str1[:7]"
   ]
  },
  {
   "cell_type": "code",
   "execution_count": 16,
   "id": "9944fb20-b315-42e7-9dbf-e60b3a09c2f1",
   "metadata": {},
   "outputs": [
    {
     "data": {
      "text/plain": [
       "'THON PROGRAM'"
      ]
     },
     "execution_count": 16,
     "metadata": {},
     "output_type": "execute_result"
    }
   ],
   "source": [
    "str1[2:]"
   ]
  },
  {
   "cell_type": "code",
   "execution_count": 18,
   "id": "029cfcf0-03fb-4b2d-9b51-943c2730f9d9",
   "metadata": {},
   "outputs": [
    {
     "data": {
      "text/plain": [
       "'ON PROGR'"
      ]
     },
     "execution_count": 18,
     "metadata": {},
     "output_type": "execute_result"
    }
   ],
   "source": [
    "str1[4:12]"
   ]
  },
  {
   "cell_type": "code",
   "execution_count": 20,
   "id": "029196ad-7580-4c51-8a7f-f53c9eb3bc9e",
   "metadata": {},
   "outputs": [
    {
     "ename": "IndexError",
     "evalue": "string index out of range",
     "output_type": "error",
     "traceback": [
      "\u001b[31m---------------------------------------------------------------------------\u001b[39m",
      "\u001b[31mIndexError\u001b[39m                                Traceback (most recent call last)",
      "\u001b[36mCell\u001b[39m\u001b[36m \u001b[39m\u001b[32mIn[20]\u001b[39m\u001b[32m, line 1\u001b[39m\n\u001b[32m----> \u001b[39m\u001b[32m1\u001b[39m str1[\u001b[32m20\u001b[39m]\n",
      "\u001b[31mIndexError\u001b[39m: string index out of range"
     ]
    }
   ],
   "source": [
    "str1[20]"
   ]
  },
  {
   "cell_type": "code",
   "execution_count": 22,
   "id": "3af541ea-e341-46c5-8a77-157cf39bdce1",
   "metadata": {},
   "outputs": [
    {
     "data": {
      "text/plain": [
       "'PYTHON PROGRAM'"
      ]
     },
     "execution_count": 22,
     "metadata": {},
     "output_type": "execute_result"
    }
   ],
   "source": [
    "str1[::1] # by default step value is one"
   ]
  },
  {
   "cell_type": "code",
   "execution_count": 24,
   "id": "c91b36f8-81de-4b56-9c46-6d61457e08c2",
   "metadata": {},
   "outputs": [
    {
     "data": {
      "text/plain": [
       "'PTO RGA'"
      ]
     },
     "execution_count": 24,
     "metadata": {},
     "output_type": "execute_result"
    }
   ],
   "source": [
    "str1[::2]"
   ]
  },
  {
   "cell_type": "code",
   "execution_count": 26,
   "id": "eed67c5d-44dd-4836-9372-e5ab1d860649",
   "metadata": {},
   "outputs": [
    {
     "data": {
      "text/plain": [
       "'TO R'"
      ]
     },
     "execution_count": 26,
     "metadata": {},
     "output_type": "execute_result"
    }
   ],
   "source": [
    "str1[2:9:2] # step value is 2 and it is excluded"
   ]
  },
  {
   "cell_type": "code",
   "execution_count": 28,
   "id": "872255dd-b3de-43c8-b9b0-cccfb2fa0871",
   "metadata": {},
   "outputs": [
    {
     "data": {
      "text/plain": [
       "'PH OA'"
      ]
     },
     "execution_count": 28,
     "metadata": {},
     "output_type": "execute_result"
    }
   ],
   "source": [
    "str1[::3]"
   ]
  },
  {
   "cell_type": "code",
   "execution_count": 32,
   "id": "84717463-63cb-4782-b067-ce953f831a08",
   "metadata": {},
   "outputs": [
    {
     "data": {
      "text/plain": [
       "'HON PROG'"
      ]
     },
     "execution_count": 32,
     "metadata": {},
     "output_type": "execute_result"
    }
   ],
   "source": [
    "str1[-11:-3]   # -11 to -4"
   ]
  },
  {
   "cell_type": "code",
   "execution_count": 36,
   "id": "e80bc94f-f4e5-430a-92cb-e20caf2d0eaf",
   "metadata": {},
   "outputs": [
    {
     "data": {
      "text/plain": [
       "'TO RGA'"
      ]
     },
     "execution_count": 36,
     "metadata": {},
     "output_type": "execute_result"
    }
   ],
   "source": [
    "str1[-12:-1:2] # -12 to -2 and step is one"
   ]
  },
  {
   "cell_type": "markdown",
   "id": "9532e054-1199-42f3-9e90-4b8612b0a9b2",
   "metadata": {},
   "source": [
    "## memberhip operators"
   ]
  },
  {
   "cell_type": "code",
   "execution_count": 39,
   "id": "88d51146-510f-4b07-b7b1-737dce5bbb78",
   "metadata": {},
   "outputs": [
    {
     "data": {
      "text/plain": [
       "'PYTHON PROGRAM'"
      ]
     },
     "execution_count": 39,
     "metadata": {},
     "output_type": "execute_result"
    }
   ],
   "source": [
    "str1"
   ]
  },
  {
   "cell_type": "code",
   "execution_count": 41,
   "id": "2bbeddbb-570f-49e1-8e66-10b38418eaf9",
   "metadata": {},
   "outputs": [
    {
     "data": {
      "text/plain": [
       "False"
      ]
     },
     "execution_count": 41,
     "metadata": {},
     "output_type": "execute_result"
    }
   ],
   "source": [
    "\"w\" in str1"
   ]
  },
  {
   "cell_type": "code",
   "execution_count": 43,
   "id": "40bcc38e-9871-481a-98cf-4325326c28b9",
   "metadata": {},
   "outputs": [
    {
     "data": {
      "text/plain": [
       "True"
      ]
     },
     "execution_count": 43,
     "metadata": {},
     "output_type": "execute_result"
    }
   ],
   "source": [
    "\"Y\" in str1"
   ]
  },
  {
   "cell_type": "code",
   "execution_count": 45,
   "id": "f52daf73-8a2f-4841-bfaf-ad418e95964b",
   "metadata": {},
   "outputs": [
    {
     "data": {
      "text/plain": [
       "False"
      ]
     },
     "execution_count": 45,
     "metadata": {},
     "output_type": "execute_result"
    }
   ],
   "source": [
    "\"y\" in str1"
   ]
  },
  {
   "cell_type": "code",
   "execution_count": 47,
   "id": "ce93953f-b1c6-4d9f-bbbc-8ba55beb745e",
   "metadata": {},
   "outputs": [
    {
     "data": {
      "text/plain": [
       "True"
      ]
     },
     "execution_count": 47,
     "metadata": {},
     "output_type": "execute_result"
    }
   ],
   "source": [
    "\"PY\" in str1"
   ]
  },
  {
   "cell_type": "code",
   "execution_count": 49,
   "id": "e9c17c8c-d2a7-420b-8826-d4933ff7f59d",
   "metadata": {},
   "outputs": [
    {
     "data": {
      "text/plain": [
       "False"
      ]
     },
     "execution_count": 49,
     "metadata": {},
     "output_type": "execute_result"
    }
   ],
   "source": [
    "\"PT\" in str1"
   ]
  },
  {
   "cell_type": "code",
   "execution_count": 51,
   "id": "dd6e1b16-794b-4b90-9387-25ef089bd5a3",
   "metadata": {},
   "outputs": [
    {
     "data": {
      "text/plain": [
       "True"
      ]
     },
     "execution_count": 51,
     "metadata": {},
     "output_type": "execute_result"
    }
   ],
   "source": [
    "\"z\" not in str1"
   ]
  },
  {
   "cell_type": "code",
   "execution_count": 53,
   "id": "7300df1c-b80c-47ed-8a2b-81151528d250",
   "metadata": {},
   "outputs": [
    {
     "data": {
      "text/plain": [
       "False"
      ]
     },
     "execution_count": 53,
     "metadata": {},
     "output_type": "execute_result"
    }
   ],
   "source": [
    "\"H\" not in str1"
   ]
  },
  {
   "cell_type": "markdown",
   "id": "1d6ef0b0-fe66-4bff-922c-735056d30421",
   "metadata": {},
   "source": [
    "### String Functions"
   ]
  },
  {
   "cell_type": "code",
   "execution_count": 56,
   "id": "db2c8826-6118-4b70-9626-4a721d147cc7",
   "metadata": {},
   "outputs": [
    {
     "data": {
      "text/plain": [
       "'PYTHON PROGRAM'"
      ]
     },
     "execution_count": 56,
     "metadata": {},
     "output_type": "execute_result"
    }
   ],
   "source": [
    "str1"
   ]
  },
  {
   "cell_type": "code",
   "execution_count": 58,
   "id": "d2892670-a1a0-48dd-a1d0-86f96343363f",
   "metadata": {},
   "outputs": [
    {
     "data": {
      "text/plain": [
       "'python program'"
      ]
     },
     "execution_count": 58,
     "metadata": {},
     "output_type": "execute_result"
    }
   ],
   "source": [
    "str1.lower() # converts strings to lower case"
   ]
  },
  {
   "cell_type": "code",
   "execution_count": 60,
   "id": "2bcd82b3-6fe0-45a4-a618-50f0a7040222",
   "metadata": {},
   "outputs": [
    {
     "data": {
      "text/plain": [
       "2"
      ]
     },
     "execution_count": 60,
     "metadata": {},
     "output_type": "execute_result"
    }
   ],
   "source": [
    "str1.count(\"O\") # count number of occurrances "
   ]
  },
  {
   "cell_type": "code",
   "execution_count": 62,
   "id": "38c7d9b6-6517-4807-808e-b847ec768387",
   "metadata": {},
   "outputs": [
    {
     "data": {
      "text/plain": [
       "3"
      ]
     },
     "execution_count": 62,
     "metadata": {},
     "output_type": "execute_result"
    }
   ],
   "source": [
    "str1.index(\"H\") # Return the lowest index in the string"
   ]
  },
  {
   "cell_type": "code",
   "execution_count": 64,
   "id": "761cf715-3b85-4a20-b7ec-a468e54e519f",
   "metadata": {},
   "outputs": [
    {
     "data": {
      "text/plain": [
       "4"
      ]
     },
     "execution_count": 64,
     "metadata": {},
     "output_type": "execute_result"
    }
   ],
   "source": [
    "str1.index(\"O\")"
   ]
  },
  {
   "cell_type": "code",
   "execution_count": 66,
   "id": "a2c3c320-c29c-428c-978b-45582ea07c6b",
   "metadata": {},
   "outputs": [],
   "source": [
    "str2=\"*************************HAPPY DIWALI******************\""
   ]
  },
  {
   "cell_type": "code",
   "execution_count": 70,
   "id": "7d9e606e-4b97-400c-8cc9-05a0451d74f8",
   "metadata": {},
   "outputs": [
    {
     "data": {
      "text/plain": [
       "'HAPPY DIWALI'"
      ]
     },
     "execution_count": 70,
     "metadata": {},
     "output_type": "execute_result"
    }
   ],
   "source": [
    "str2.strip(\"*\") # Return a copy of the string with leading and trailing whitespace removed."
   ]
  },
  {
   "cell_type": "code",
   "execution_count": 72,
   "id": "1a7381df-8250-4977-a48c-a7443cb2a745",
   "metadata": {},
   "outputs": [
    {
     "data": {
      "text/plain": [
       "'*************************HAPPY DIWALI'"
      ]
     },
     "execution_count": 72,
     "metadata": {},
     "output_type": "execute_result"
    }
   ],
   "source": [
    "str2.rstrip(\"*\")"
   ]
  },
  {
   "cell_type": "code",
   "execution_count": 74,
   "id": "9749c99e-aa10-4668-84f3-8bb9d251b6d1",
   "metadata": {},
   "outputs": [
    {
     "data": {
      "text/plain": [
       "'HAPPY DIWALI******************'"
      ]
     },
     "execution_count": 74,
     "metadata": {},
     "output_type": "execute_result"
    }
   ],
   "source": [
    "str2.lstrip(\"*\")"
   ]
  },
  {
   "cell_type": "code",
   "execution_count": 68,
   "id": "462794be-3d3d-4a6e-9f94-1aa77a028e69",
   "metadata": {},
   "outputs": [],
   "source": [
    "str3=\"         good morning                         \""
   ]
  },
  {
   "cell_type": "code",
   "execution_count": 76,
   "id": "9dd2cc8f-96f8-4a07-97dd-72ab6ba48d53",
   "metadata": {},
   "outputs": [
    {
     "data": {
      "text/plain": [
       "'good morning'"
      ]
     },
     "execution_count": 76,
     "metadata": {},
     "output_type": "execute_result"
    }
   ],
   "source": [
    "str3.strip() # by default space is a argument"
   ]
  },
  {
   "cell_type": "code",
   "execution_count": 78,
   "id": "f7243c3a-06b1-46ef-a3f2-6db3bc56905f",
   "metadata": {},
   "outputs": [
    {
     "data": {
      "text/plain": [
       "'good morning                         '"
      ]
     },
     "execution_count": 78,
     "metadata": {},
     "output_type": "execute_result"
    }
   ],
   "source": [
    "str3.lstrip()"
   ]
  },
  {
   "cell_type": "code",
   "execution_count": 5,
   "id": "02dd0f1a-a58a-4989-8c45-752f09d258bc",
   "metadata": {},
   "outputs": [],
   "source": [
    "str4=\"one two three four five sixseven\""
   ]
  },
  {
   "cell_type": "code",
   "execution_count": 7,
   "id": "4114cc5f-a862-4437-85ac-2ef026d0c064",
   "metadata": {},
   "outputs": [
    {
     "data": {
      "text/plain": [
       "['one', 'two', 'three', 'four', 'five', 'sixseven']"
      ]
     },
     "execution_count": 7,
     "metadata": {},
     "output_type": "execute_result"
    }
   ],
   "source": [
    "str4.split()"
   ]
  },
  {
   "cell_type": "code",
   "execution_count": 17,
   "id": "6825df63-36da-4b2e-8ca5-4ef56aca6cd2",
   "metadata": {},
   "outputs": [],
   "source": [
    "str5=\"anusha:arun:bindhu:rohan\""
   ]
  },
  {
   "cell_type": "code",
   "execution_count": 15,
   "id": "96c1bddd-fa98-4926-b57b-572ef99b99da",
   "metadata": {},
   "outputs": [
    {
     "data": {
      "text/plain": [
       "['anusha', 'arun', 'bindhu', 'rohan', 'A', 'v', 'w']"
      ]
     },
     "execution_count": 15,
     "metadata": {},
     "output_type": "execute_result"
    }
   ],
   "source": [
    "str5.split(\":\")"
   ]
  },
  {
   "cell_type": "code",
   "execution_count": 21,
   "id": "26ca6e36-b991-4997-8c6a-ad4f9947dfdb",
   "metadata": {},
   "outputs": [],
   "source": [
    "str6=\"one two three four five six seven\""
   ]
  },
  {
   "cell_type": "code",
   "execution_count": 23,
   "id": "19316d6a-6b5f-4d7e-93a9-80405ce38637",
   "metadata": {},
   "outputs": [
    {
     "data": {
      "text/plain": [
       "('one two ', 'three', ' four five six seven')"
      ]
     },
     "execution_count": 23,
     "metadata": {},
     "output_type": "execute_result"
    }
   ],
   "source": [
    "str6.partition(\"three\") # return 3 elements "
   ]
  },
  {
   "cell_type": "code",
   "execution_count": 25,
   "id": "6fba893d-b078-48c1-a8bc-5b9d7daf77d7",
   "metadata": {},
   "outputs": [
    {
     "data": {
      "text/plain": [
       "('one two three ', 'four', ' five six seven')"
      ]
     },
     "execution_count": 25,
     "metadata": {},
     "output_type": "execute_result"
    }
   ],
   "source": [
    "str6.partition(\"four\")"
   ]
  },
  {
   "cell_type": "code",
   "execution_count": 27,
   "id": "02563646-6d8c-44ed-b0e2-8d9f89543218",
   "metadata": {},
   "outputs": [
    {
     "data": {
      "text/plain": [
       "('one ', 'two', ' three four five six seven')"
      ]
     },
     "execution_count": 27,
     "metadata": {},
     "output_type": "execute_result"
    }
   ],
   "source": [
    "str6.partition(\"two\")"
   ]
  },
  {
   "cell_type": "code",
   "execution_count": 35,
   "id": "e0fd411e-c853-455d-b51a-bf0e45cbe293",
   "metadata": {},
   "outputs": [
    {
     "name": "stdout",
     "output_type": "stream",
     "text": [
      "the value of x is 6 and y is7\n"
     ]
    }
   ],
   "source": [
    "x=6\n",
    "y=7\n",
    "print(\"the value of x is {} and y is{}\".format(x,y))\n"
   ]
  },
  {
   "cell_type": "code",
   "execution_count": 41,
   "id": "bb4af8cb-a263-413a-9b9f-bef0cfc7bf9b",
   "metadata": {},
   "outputs": [
    {
     "name": "stdout",
     "output_type": "stream",
     "text": [
      "my name is roshan and Im from chennai\n"
     ]
    }
   ],
   "source": [
    "name=\"roshan\"\n",
    "city=\"chennai\"\n",
    "print(\"my name is {} and Im from {}\".format(name,city))\n"
   ]
  },
  {
   "cell_type": "code",
   "execution_count": 47,
   "id": "715a3502-4e5e-4306-a680-715d16964a7f",
   "metadata": {},
   "outputs": [
    {
     "ename": "TypeError",
     "evalue": "'str' object does not support item assignment",
     "output_type": "error",
     "traceback": [
      "\u001b[31m---------------------------------------------------------------------------\u001b[39m",
      "\u001b[31mTypeError\u001b[39m                                 Traceback (most recent call last)",
      "\u001b[36mCell\u001b[39m\u001b[36m \u001b[39m\u001b[32mIn[47]\u001b[39m\u001b[32m, line 1\u001b[39m\n\u001b[32m----> \u001b[39m\u001b[32m1\u001b[39m name[\u001b[32m2\u001b[39m]=\u001b[33m\"\u001b[39m\u001b[33mz\u001b[39m\u001b[33m\"\u001b[39m\n",
      "\u001b[31mTypeError\u001b[39m: 'str' object does not support item assignment"
     ]
    }
   ],
   "source": [
    "name[2]=\"z\" # str obj are immutable"
   ]
  },
  {
   "cell_type": "markdown",
   "id": "9bfbad14-e3d9-45c3-aad7-4d49416014a4",
   "metadata": {},
   "source": [
    "## Type Casting"
   ]
  },
  {
   "cell_type": "markdown",
   "id": "195e37bf-be3a-48b5-bc72-cb0389172edf",
   "metadata": {},
   "source": [
    "### Auto Type Casting"
   ]
  },
  {
   "cell_type": "code",
   "execution_count": 50,
   "id": "4147cf90-7c8b-41f4-a085-c88af0e1645d",
   "metadata": {},
   "outputs": [
    {
     "data": {
      "text/plain": [
       "17.5"
      ]
     },
     "execution_count": 50,
     "metadata": {},
     "output_type": "execute_result"
    }
   ],
   "source": [
    "12+5.5"
   ]
  },
  {
   "cell_type": "code",
   "execution_count": 52,
   "id": "4436591b-fa45-4ce0-841d-5383e9766898",
   "metadata": {},
   "outputs": [
    {
     "data": {
      "text/plain": [
       "18.5"
      ]
     },
     "execution_count": 52,
     "metadata": {},
     "output_type": "execute_result"
    }
   ],
   "source": [
    "12+5.5+True"
   ]
  },
  {
   "cell_type": "code",
   "execution_count": 54,
   "id": "e00f6630-104c-417c-84ee-3e7e37c35c86",
   "metadata": {},
   "outputs": [
    {
     "data": {
      "text/plain": [
       "8.8"
      ]
     },
     "execution_count": 54,
     "metadata": {},
     "output_type": "execute_result"
    }
   ],
   "source": [
    "False+8.8"
   ]
  },
  {
   "cell_type": "code",
   "execution_count": 57,
   "id": "8713ce7b-29b4-432e-8f79-bb2912ebcbce",
   "metadata": {},
   "outputs": [
    {
     "data": {
      "text/plain": [
       "4"
      ]
     },
     "execution_count": 57,
     "metadata": {},
     "output_type": "execute_result"
    }
   ],
   "source": [
    "3+bool(6)"
   ]
  },
  {
   "cell_type": "markdown",
   "id": "4bcbbe78-5144-4f7e-9e73-20d5eeb1b612",
   "metadata": {},
   "source": [
    "### Forced Type Casting"
   ]
  },
  {
   "cell_type": "code",
   "execution_count": 60,
   "id": "883f8219-07a4-4021-a77c-ac5d93c3f157",
   "metadata": {},
   "outputs": [
    {
     "data": {
      "text/plain": [
       "float"
      ]
     },
     "execution_count": 60,
     "metadata": {},
     "output_type": "execute_result"
    }
   ],
   "source": [
    "x=34.67788\n",
    "type(x)"
   ]
  },
  {
   "cell_type": "code",
   "execution_count": 76,
   "id": "43ca89b8-c017-4157-bed9-ee34db63bbf4",
   "metadata": {},
   "outputs": [
    {
     "data": {
      "text/plain": [
       "(34, '34.67788', True)"
      ]
     },
     "execution_count": 76,
     "metadata": {},
     "output_type": "execute_result"
    }
   ],
   "source": [
    "int(x),str(x),bool(x)"
   ]
  },
  {
   "cell_type": "code",
   "execution_count": 66,
   "id": "1cfd1fb3-6bbe-4078-a392-a34ac32e5781",
   "metadata": {},
   "outputs": [],
   "source": [
    "var=str(x)"
   ]
  },
  {
   "cell_type": "code",
   "execution_count": 68,
   "id": "7fc4f789-abfe-4357-bd85-a19ceae207d7",
   "metadata": {},
   "outputs": [
    {
     "data": {
      "text/plain": [
       "str"
      ]
     },
     "execution_count": 68,
     "metadata": {},
     "output_type": "execute_result"
    }
   ],
   "source": [
    "type(var)"
   ]
  },
  {
   "cell_type": "code",
   "execution_count": 70,
   "id": "75cfe0ef-5420-4990-a860-4c559edad59d",
   "metadata": {},
   "outputs": [
    {
     "data": {
      "text/plain": [
       "'34.67788'"
      ]
     },
     "execution_count": 70,
     "metadata": {},
     "output_type": "execute_result"
    }
   ],
   "source": [
    "var"
   ]
  },
  {
   "cell_type": "code",
   "execution_count": 72,
   "id": "e439d6b1-0e7c-49b7-af64-1f8a759d2ad6",
   "metadata": {},
   "outputs": [
    {
     "data": {
      "text/plain": [
       "True"
      ]
     },
     "execution_count": 72,
     "metadata": {},
     "output_type": "execute_result"
    }
   ],
   "source": [
    "bool(x)"
   ]
  },
  {
   "cell_type": "code",
   "execution_count": 74,
   "id": "4c9cce9f-5569-4979-ad23-b7cc9de640ad",
   "metadata": {},
   "outputs": [
    {
     "data": {
      "text/plain": [
       "False"
      ]
     },
     "execution_count": 74,
     "metadata": {},
     "output_type": "execute_result"
    }
   ],
   "source": [
    "bool(0.00)"
   ]
  },
  {
   "cell_type": "code",
   "execution_count": 78,
   "id": "939f2c3b-66c4-43a2-8ba5-24269a764528",
   "metadata": {},
   "outputs": [
    {
     "data": {
      "text/plain": [
       "int"
      ]
     },
     "execution_count": 78,
     "metadata": {},
     "output_type": "execute_result"
    }
   ],
   "source": [
    "y=67\n",
    "type(y)"
   ]
  },
  {
   "cell_type": "code",
   "execution_count": null,
   "id": "2802f3dc-7c49-4769-8bb3-b4b6aa9406fd",
   "metadata": {},
   "outputs": [],
   "source": [
    "str(y),float(y),bool(y)"
   ]
  },
  {
   "cell_type": "code",
   "execution_count": null,
   "id": "adfd5c79-d4d1-46e1-beb2-def2b97ef28f",
   "metadata": {},
   "outputs": [],
   "source": [
    "z=True\n",
    "type(z)"
   ]
  },
  {
   "cell_type": "code",
   "execution_count": null,
   "id": "373ad6b5-d2e6-4a7b-8a84-200941f50eec",
   "metadata": {},
   "outputs": [],
   "source": [
    "int(z),float(z),str(z)"
   ]
  },
  {
   "cell_type": "code",
   "execution_count": 82,
   "id": "08990ccf-4209-4b66-8759-c1308c610d35",
   "metadata": {},
   "outputs": [
    {
     "data": {
      "text/plain": [
       "True"
      ]
     },
     "execution_count": 82,
     "metadata": {},
     "output_type": "execute_result"
    }
   ],
   "source": [
    "s=\"abc\"\n",
    "bool(s)"
   ]
  },
  {
   "cell_type": "code",
   "execution_count": 84,
   "id": "fb9e158b-0474-439d-a9ef-5a0768ccdf5a",
   "metadata": {},
   "outputs": [],
   "source": [
    "s1=\"\""
   ]
  },
  {
   "cell_type": "code",
   "execution_count": null,
   "id": "2421b6a1-0c78-4ad8-ae89-042705aabc39",
   "metadata": {},
   "outputs": [],
   "source": [
    "bool(s1)"
   ]
  },
  {
   "cell_type": "code",
   "execution_count": null,
   "id": "5d09ab71-9727-4620-aa4f-483a8d5b128e",
   "metadata": {},
   "outputs": [],
   "source": [
    "s2=\"1234.678\""
   ]
  },
  {
   "cell_type": "code",
   "execution_count": null,
   "id": "53071305-c49b-4cc2-b408-9c602688cddc",
   "metadata": {},
   "outputs": [],
   "source": [
    "int(s2),float(s2),bool(s2)"
   ]
  },
  {
   "cell_type": "code",
   "execution_count": 86,
   "id": "f72393dc-8c50-47a8-b0d2-3b5439d021c8",
   "metadata": {},
   "outputs": [
    {
     "data": {
      "text/plain": [
       "17"
      ]
     },
     "execution_count": 86,
     "metadata": {},
     "output_type": "execute_result"
    }
   ],
   "source": [
    "int(1.66)+bool(\"a\")+15"
   ]
  },
  {
   "cell_type": "code",
   "execution_count": null,
   "id": "3917935f-8ff6-42d6-8586-1db5ea27edf5",
   "metadata": {},
   "outputs": [],
   "source": []
  },
  {
   "cell_type": "markdown",
   "id": "7bdb52b0-74b7-4c23-884a-1cd8930c8b08",
   "metadata": {},
   "source": [
    "## Logical Operators"
   ]
  },
  {
   "cell_type": "code",
   "execution_count": 91,
   "id": "8e31e7ec-b261-45d4-8125-73fb5395cd18",
   "metadata": {},
   "outputs": [
    {
     "name": "stdout",
     "output_type": "stream",
     "text": [
      "a and b = False\n",
      "a or b = True\n",
      "not a = False\n"
     ]
    }
   ],
   "source": [
    "a=True\n",
    "b=False\n",
    "print(\"a and b =\",a and b)\n",
    "print(\"a or b =\",a or b)\n",
    "print(\"not a =\",not a)"
   ]
  },
  {
   "cell_type": "code",
   "execution_count": null,
   "id": "9f9a1da0-76d9-447e-9d8a-7c1cc9066668",
   "metadata": {},
   "outputs": [],
   "source": [
    "age=21\n",
    "if age>18:\n",
    "    print(\"age is greater than 18\")\n",
    "    print(\"if block executes\")\n",
    "print(\"end of program---this statement is independent statement\")"
   ]
  },
  {
   "cell_type": "code",
   "execution_count": 1,
   "id": "9d04f49d-7a1f-426c-839f-ec72fb427105",
   "metadata": {},
   "outputs": [
    {
     "name": "stdout",
     "output_type": "stream",
     "text": [
      "number is even\n"
     ]
    }
   ],
   "source": [
    "num=10\n",
    "if num%2==0:\n",
    "    print(\"number is even\")\n",
    "else:\n",
    "    print(\"number is odd\")"
   ]
  },
  {
   "cell_type": "markdown",
   "id": "4c699877-2d31-4582-82c0-f756fdece52c",
   "metadata": {},
   "source": [
    "## Input Function"
   ]
  },
  {
   "cell_type": "code",
   "execution_count": 10,
   "id": "0c9391eb-360b-4929-8cb6-19249c3038da",
   "metadata": {},
   "outputs": [
    {
     "name": "stdin",
     "output_type": "stream",
     "text": [
      "enter the user name arun\n"
     ]
    },
    {
     "name": "stdout",
     "output_type": "stream",
     "text": [
      "user name is  arun\n",
      "the type of data is <class 'str'>\n"
     ]
    }
   ],
   "source": [
    "user_name=input(\"enter the user name\")\n",
    "print(\"user name is \",user_name)\n",
    "print(\"the type of data is\",type(user_name))"
   ]
  },
  {
   "cell_type": "code",
   "execution_count": 12,
   "id": "f5c0e509-f654-464a-9b23-ca701a437885",
   "metadata": {},
   "outputs": [
    {
     "name": "stdin",
     "output_type": "stream",
     "text": [
      "enter the age 23\n"
     ]
    },
    {
     "name": "stdout",
     "output_type": "stream",
     "text": [
      "age is  23\n",
      "the type of data is <class 'str'>\n"
     ]
    }
   ],
   "source": [
    "age=input(\"enter the age\")\n",
    "print(\"age is \",age)\n",
    "print(\"the type of data is\",type(age))"
   ]
  },
  {
   "cell_type": "code",
   "execution_count": 14,
   "id": "deebea1c-dfd4-492e-8786-317c8bfd7cce",
   "metadata": {},
   "outputs": [
    {
     "name": "stdin",
     "output_type": "stream",
     "text": [
      "enter the age 23\n"
     ]
    },
    {
     "name": "stdout",
     "output_type": "stream",
     "text": [
      "age is  23\n",
      "the type of data is <class 'int'>\n"
     ]
    }
   ],
   "source": [
    "age=int(input(\"enter the age\"))\n",
    "print(\"age is \",age)\n",
    "print(\"the type of data is\",type(age))"
   ]
  },
  {
   "cell_type": "code",
   "execution_count": 20,
   "id": "39bc6185-51e2-40a6-9c03-827f25551511",
   "metadata": {},
   "outputs": [
    {
     "name": "stdin",
     "output_type": "stream",
     "text": [
      "enter the marks 35.88\n"
     ]
    },
    {
     "name": "stdout",
     "output_type": "stream",
     "text": [
      "marks=  35.88\n",
      "the type of data is <class 'float'>\n"
     ]
    }
   ],
   "source": [
    "marks=float(input(\"enter the marks\"))\n",
    "print(\"marks= \",marks)\n",
    "print(\"the type of data is\",type(marks))"
   ]
  },
  {
   "cell_type": "code",
   "execution_count": 22,
   "id": "22494f66-84c6-48af-825d-48e6b25f3889",
   "metadata": {},
   "outputs": [
    {
     "name": "stdin",
     "output_type": "stream",
     "text": [
      "enter the value -4\n"
     ]
    },
    {
     "name": "stdout",
     "output_type": "stream",
     "text": [
      "number is -ve\n"
     ]
    }
   ],
   "source": [
    "num=int(input(\"enter the value\"))\n",
    "if num>0:\n",
    "    print(\"number is +ve\")\n",
    "else:\n",
    "    print(\"number is -ve\")"
   ]
  },
  {
   "cell_type": "markdown",
   "id": "331b36da-35ea-4488-9b1f-689cedbbcb90",
   "metadata": {},
   "source": [
    "## if-elif-else statement\n",
    "- To check more than one condition in sequence"
   ]
  },
  {
   "cell_type": "code",
   "execution_count": 28,
   "id": "15c7a92b-ee6e-4ec0-86a6-8ae04becdd27",
   "metadata": {},
   "outputs": [
    {
     "name": "stdin",
     "output_type": "stream",
     "text": [
      "enter the value -6\n"
     ]
    },
    {
     "name": "stdout",
     "output_type": "stream",
     "text": [
      "number is -ve\n"
     ]
    }
   ],
   "source": [
    "num=int(input(\"enter the value\"))\n",
    "if num>0:\n",
    "    print(\"number is +ve\")\n",
    "elif num==0:\n",
    "    print(\"number is zero\")\n",
    "else:\n",
    "    print(\"number is -ve\")"
   ]
  },
  {
   "cell_type": "code",
   "execution_count": null,
   "id": "d79ab834-5061-4c3d-9b5a-bcf9284afc3a",
   "metadata": {},
   "outputs": [],
   "source": [
    "score=int(input(\"enter the score\"))\n",
    "\n",
    "if score>=90:\n",
    "    print(\"Grade A+\")\n",
    "elif score >=80:\n",
    "    print(\"Grade A\")\n",
    "elif score >=70:\n",
    "    print(\"Grade B+\")\n",
    "elif score>=60:\n",
    "    print(\"Grade B\")\n",
    "elif score >=35:\n",
    "    print(\"Grade C\")\n",
    "else:\n",
    "    print(\"FAILED\")"
   ]
  },
  {
   "cell_type": "code",
   "execution_count": null,
   "id": "6f23e36f-caec-448a-9e51-b5eb468d1f89",
   "metadata": {},
   "outputs": [],
   "source": [
    "attendance=int(input(\"enter the attendance value\"))\n",
    "\n",
    "if attendance>=75:\n",
    "    marks=float(input(\"enter the marks\"))\n",
    "    if marks>35:\n",
    "        print(\"PASS\")\n",
    "    else:\n",
    "        print(\"Failed\")\n",
    "\n",
    "else:\n",
    "    print(\"Not eligible to write Exams\")\n"
   ]
  },
  {
   "cell_type": "markdown",
   "id": "d9a5abdd-7061-487d-b759-9ed14281a01f",
   "metadata": {},
   "source": [
    "## Data Structure-List-[element1,element2,........elementn]"
   ]
  },
  {
   "cell_type": "code",
   "execution_count": 33,
   "id": "e580f4e7-c100-48c8-aa1c-3fd6f74f927a",
   "metadata": {},
   "outputs": [],
   "source": [
    "data_list=[12,45.66,True,\"arun\",[2,6]]"
   ]
  },
  {
   "cell_type": "code",
   "execution_count": 35,
   "id": "535a6245-eaf4-4f47-bee7-1c3762e6a672",
   "metadata": {},
   "outputs": [
    {
     "data": {
      "text/plain": [
       "list"
      ]
     },
     "execution_count": 35,
     "metadata": {},
     "output_type": "execute_result"
    }
   ],
   "source": [
    "type(data_list)"
   ]
  },
  {
   "cell_type": "code",
   "execution_count": 39,
   "id": "5d2ea687-5e52-4859-84f1-d0bf267c1946",
   "metadata": {},
   "outputs": [],
   "source": [
    "names_list=[\"Anu\",\"bharat\",\"charan\",\"divya\",\"tarun\",\"sam\"]"
   ]
  },
  {
   "cell_type": "markdown",
   "id": "27c1adf4-c692-4ceb-a6e0-9ad90c22ce5f",
   "metadata": {},
   "source": [
    "#### List Indexing & Slicing"
   ]
  },
  {
   "cell_type": "code",
   "execution_count": 42,
   "id": "d3b8ba91-53a2-45b4-82c7-a85f7ba3525d",
   "metadata": {},
   "outputs": [
    {
     "data": {
      "text/plain": [
       "'tarun'"
      ]
     },
     "execution_count": 42,
     "metadata": {},
     "output_type": "execute_result"
    }
   ],
   "source": [
    "names_list[4]"
   ]
  },
  {
   "cell_type": "code",
   "execution_count": 44,
   "id": "10f24f3a-c3f8-4200-a3ef-31d19b2a48ea",
   "metadata": {},
   "outputs": [
    {
     "data": {
      "text/plain": [
       "'sam'"
      ]
     },
     "execution_count": 44,
     "metadata": {},
     "output_type": "execute_result"
    }
   ],
   "source": [
    "names_list[-1]"
   ]
  },
  {
   "cell_type": "code",
   "execution_count": 46,
   "id": "bced026b-f3f4-41c4-bb24-2ceed99ad11a",
   "metadata": {},
   "outputs": [
    {
     "data": {
      "text/plain": [
       "['bharat', 'charan', 'divya', 'tarun']"
      ]
     },
     "execution_count": 46,
     "metadata": {},
     "output_type": "execute_result"
    }
   ],
   "source": [
    "names_list[1:5] # slicing from index 1 to 4 (5 is exculded)"
   ]
  },
  {
   "cell_type": "code",
   "execution_count": 48,
   "id": "6f0be26a-f941-4e6a-910a-2d90e2d97a41",
   "metadata": {},
   "outputs": [
    {
     "data": {
      "text/plain": [
       "['Anu', 'charan', 'tarun']"
      ]
     },
     "execution_count": 48,
     "metadata": {},
     "output_type": "execute_result"
    }
   ],
   "source": [
    "names_list[::2] # by default start index is 0 and stop is upto last char"
   ]
  },
  {
   "cell_type": "code",
   "execution_count": null,
   "id": "633b5fae-d7a2-40d9-9b8d-5bafe00d86d3",
   "metadata": {},
   "outputs": [],
   "source": [
    "\"sam\" in names_list"
   ]
  },
  {
   "cell_type": "code",
   "execution_count": null,
   "id": "64f61aa9-16a0-473e-a27d-134ab18bc0b9",
   "metadata": {},
   "outputs": [],
   "source": [
    "\"Harsha\" in names_list"
   ]
  },
  {
   "cell_type": "code",
   "execution_count": null,
   "id": "fce0b4e0-40c4-4808-a61a-4794ce1bad37",
   "metadata": {},
   "outputs": [],
   "source": [
    "\"RAM\" not in names_list"
   ]
  },
  {
   "cell_type": "markdown",
   "id": "a0ff5878-c0b3-420d-9f00-5f1a8a1e59c1",
   "metadata": {},
   "source": [
    "## List is Mutable or immutable?"
   ]
  },
  {
   "cell_type": "code",
   "execution_count": 50,
   "id": "790593ad-33be-461d-84d5-7284e7070add",
   "metadata": {},
   "outputs": [],
   "source": [
    "names_list[1]=\"yash\""
   ]
  },
  {
   "cell_type": "code",
   "execution_count": 52,
   "id": "562cae42-edec-4f72-821e-e35aeae16c71",
   "metadata": {},
   "outputs": [
    {
     "data": {
      "text/plain": [
       "['Anu', 'yash', 'charan', 'divya', 'tarun', 'sam']"
      ]
     },
     "execution_count": 52,
     "metadata": {},
     "output_type": "execute_result"
    }
   ],
   "source": [
    "names_list # list is mutable"
   ]
  },
  {
   "cell_type": "code",
   "execution_count": 54,
   "id": "84cc35cf-4535-4179-b002-2b0ca766c798",
   "metadata": {},
   "outputs": [],
   "source": [
    "var_list=[\"a\",[1,4,6],\"b\",[100,300]]"
   ]
  },
  {
   "cell_type": "code",
   "execution_count": 66,
   "id": "3aba5738-acc4-44cf-8b7a-b80e615b84c1",
   "metadata": {},
   "outputs": [
    {
     "data": {
      "text/plain": [
       "4"
      ]
     },
     "execution_count": 66,
     "metadata": {},
     "output_type": "execute_result"
    }
   ],
   "source": [
    "var_list[1][1] #var_name[main_index][sub_index]"
   ]
  },
  {
   "cell_type": "markdown",
   "id": "e5a0e4b6-7207-4b44-8830-0e24e8015d13",
   "metadata": {},
   "source": [
    "## List Functions"
   ]
  },
  {
   "cell_type": "code",
   "execution_count": 71,
   "id": "9b98fd33-a531-4324-b988-593d00407b02",
   "metadata": {},
   "outputs": [],
   "source": [
    "num_list=[\"one\",\"two\",\"three\",\"four\"]"
   ]
  },
  {
   "cell_type": "code",
   "execution_count": 73,
   "id": "e9e48261-662a-42c8-9273-b23c8113663c",
   "metadata": {},
   "outputs": [
    {
     "data": {
      "text/plain": [
       "['one', 'two', 'three', 'four', 'five']"
      ]
     },
     "execution_count": 73,
     "metadata": {},
     "output_type": "execute_result"
    }
   ],
   "source": [
    "num_list.append(\"five\")\n",
    "num_list"
   ]
  },
  {
   "cell_type": "code",
   "execution_count": 75,
   "id": "d671b553-776a-4cb4-b925-ce7c63510d23",
   "metadata": {},
   "outputs": [
    {
     "data": {
      "text/plain": [
       "['one', 'two', 'three', 'four', 'five', 'six', 'seven', 'eight']"
      ]
     },
     "execution_count": 75,
     "metadata": {},
     "output_type": "execute_result"
    }
   ],
   "source": [
    "num_list.extend([\"six\",\"seven\",\"eight\"])\n",
    "num_list"
   ]
  },
  {
   "cell_type": "code",
   "execution_count": 81,
   "id": "ef3a123e-42a0-4630-ad73-9cd3a059de61",
   "metadata": {},
   "outputs": [
    {
     "data": {
      "text/plain": [
       "3"
      ]
     },
     "execution_count": 81,
     "metadata": {},
     "output_type": "execute_result"
    }
   ],
   "source": [
    "num_list.index(\"four\")"
   ]
  },
  {
   "cell_type": "code",
   "execution_count": 83,
   "id": "08cdc2b9-7ac8-4031-8021-1a07fd54b52d",
   "metadata": {},
   "outputs": [
    {
     "data": {
      "text/plain": [
       "1"
      ]
     },
     "execution_count": 83,
     "metadata": {},
     "output_type": "execute_result"
    }
   ],
   "source": [
    "num_list.count(\"one\")"
   ]
  },
  {
   "cell_type": "code",
   "execution_count": 85,
   "id": "ea654d85-6c12-4469-bbc5-4401e2a73f00",
   "metadata": {},
   "outputs": [
    {
     "data": {
      "text/plain": [
       "['one', 'three', 'four', 'five', 'six', 'seven', 'eight']"
      ]
     },
     "execution_count": 85,
     "metadata": {},
     "output_type": "execute_result"
    }
   ],
   "source": [
    "num_list.remove(\"two\")\n",
    "num_list"
   ]
  },
  {
   "cell_type": "code",
   "execution_count": 87,
   "id": "f233e172-9659-4f01-a502-5cc4003757b2",
   "metadata": {},
   "outputs": [],
   "source": [
    "num_list.sort()"
   ]
  },
  {
   "cell_type": "code",
   "execution_count": 89,
   "id": "803b507d-4b0c-4028-ae59-d3a1d50844a0",
   "metadata": {},
   "outputs": [
    {
     "data": {
      "text/plain": [
       "['eight', 'five', 'four', 'one', 'seven', 'six', 'three']"
      ]
     },
     "execution_count": 89,
     "metadata": {},
     "output_type": "execute_result"
    }
   ],
   "source": [
    "num_list"
   ]
  },
  {
   "cell_type": "code",
   "execution_count": 91,
   "id": "9da5ef95-04ed-4f39-a290-5a1cb4e22f2d",
   "metadata": {},
   "outputs": [],
   "source": [
    "names_list.reverse()"
   ]
  },
  {
   "cell_type": "code",
   "execution_count": 93,
   "id": "c85c6a00-539f-41bb-88e5-20df3e771aa4",
   "metadata": {},
   "outputs": [
    {
     "data": {
      "text/plain": [
       "['sam', 'tarun', 'divya', 'charan', 'yash', 'Anu']"
      ]
     },
     "execution_count": 93,
     "metadata": {},
     "output_type": "execute_result"
    }
   ],
   "source": [
    "names_list"
   ]
  },
  {
   "cell_type": "code",
   "execution_count": 95,
   "id": "8f3bba64-d1e0-4f5e-9e19-319eb8df1dc4",
   "metadata": {},
   "outputs": [
    {
     "data": {
      "text/plain": [
       "['eight', 'five', 'four', 'one', 'seven', 'six', 'three']"
      ]
     },
     "execution_count": 95,
     "metadata": {},
     "output_type": "execute_result"
    }
   ],
   "source": [
    "num_list"
   ]
  },
  {
   "cell_type": "code",
   "execution_count": 99,
   "id": "5874a737-d6c9-4208-bed9-e9fc84f5e136",
   "metadata": {},
   "outputs": [],
   "source": [
    "list1=[\"A\",\"b\",\"c\"]"
   ]
  },
  {
   "cell_type": "code",
   "execution_count": 101,
   "id": "6d18890d-6e55-4fd2-98f2-555ffb33e0da",
   "metadata": {},
   "outputs": [
    {
     "data": {
      "text/plain": [
       "['A', 'c']"
      ]
     },
     "execution_count": 101,
     "metadata": {},
     "output_type": "execute_result"
    }
   ],
   "source": [
    "del list1[1]\n",
    "list1"
   ]
  },
  {
   "cell_type": "code",
   "execution_count": 103,
   "id": "39b9ee1b-258c-40fa-b0ad-5b9d898f9c63",
   "metadata": {},
   "outputs": [
    {
     "data": {
      "text/plain": [
       "[]"
      ]
     },
     "execution_count": 103,
     "metadata": {},
     "output_type": "execute_result"
    }
   ],
   "source": [
    "list1.clear()\n",
    "list1"
   ]
  },
  {
   "cell_type": "code",
   "execution_count": 107,
   "id": "9fe5a3f7-cdaf-40e6-bfd6-92882d23a3bc",
   "metadata": {},
   "outputs": [],
   "source": [
    "del list1   # delete the variable from the memory"
   ]
  },
  {
   "cell_type": "code",
   "execution_count": 109,
   "id": "49128215-a1aa-43a2-8bba-80111ebab3f5",
   "metadata": {},
   "outputs": [
    {
     "ename": "NameError",
     "evalue": "name 'list1' is not defined",
     "output_type": "error",
     "traceback": [
      "\u001b[31m---------------------------------------------------------------------------\u001b[39m",
      "\u001b[31mNameError\u001b[39m                                 Traceback (most recent call last)",
      "\u001b[36mCell\u001b[39m\u001b[36m \u001b[39m\u001b[32mIn[109]\u001b[39m\u001b[32m, line 1\u001b[39m\n\u001b[32m----> \u001b[39m\u001b[32m1\u001b[39m list1\n",
      "\u001b[31mNameError\u001b[39m: name 'list1' is not defined"
     ]
    }
   ],
   "source": [
    "list1"
   ]
  },
  {
   "cell_type": "markdown",
   "id": "2aa5cb79-9a4b-4d30-b8f7-92af25d0f1c1",
   "metadata": {},
   "source": [
    "### Data Structure-List-(element1,element2,........elementn)"
   ]
  },
  {
   "cell_type": "code",
   "execution_count": 113,
   "id": "abadbfc5-3b99-4f13-9e1d-020f07c32b93",
   "metadata": {},
   "outputs": [],
   "source": [
    "tup_var=(\"A\",65.4,\"b\")"
   ]
  },
  {
   "cell_type": "code",
   "execution_count": 115,
   "id": "95c30e7d-b2d7-4acd-8025-229ced0b2fc0",
   "metadata": {},
   "outputs": [
    {
     "data": {
      "text/plain": [
       "tuple"
      ]
     },
     "execution_count": 115,
     "metadata": {},
     "output_type": "execute_result"
    }
   ],
   "source": [
    "type(tup_var)"
   ]
  },
  {
   "cell_type": "code",
   "execution_count": null,
   "id": "804d43aa-6e62-4042-b7a3-80df3ce5e238",
   "metadata": {},
   "outputs": [],
   "source": [
    "tup_var."
   ]
  },
  {
   "cell_type": "markdown",
   "id": "a9c858d8-076e-416c-93f2-89a7fbb9816c",
   "metadata": {},
   "source": [
    "## Data Structure-set---{element1,element2.....}"
   ]
  },
  {
   "cell_type": "code",
   "execution_count": 118,
   "id": "33dccff6-426c-4a48-a2d4-9ef28fc64d2c",
   "metadata": {},
   "outputs": [
    {
     "data": {
      "text/plain": [
       "set"
      ]
     },
     "execution_count": 118,
     "metadata": {},
     "output_type": "execute_result"
    }
   ],
   "source": [
    "set_var={1,2,4,5,7,7,7,7,7,7,7,\"a\",\"b\",13,44.44}\n",
    "type(set_var)"
   ]
  },
  {
   "cell_type": "code",
   "execution_count": 120,
   "id": "b704b79b-109f-4cc0-9f11-af2d452fc4f2",
   "metadata": {},
   "outputs": [
    {
     "data": {
      "text/plain": [
       "{1, 13, 2, 4, 44.44, 5, 7, 'a', 'b'}"
      ]
     },
     "execution_count": 120,
     "metadata": {},
     "output_type": "execute_result"
    }
   ],
   "source": [
    "set_var # removes dulicate values and it is unorder"
   ]
  },
  {
   "cell_type": "code",
   "execution_count": 122,
   "id": "d033c689-19fd-44fa-ab52-97bd6f3381f7",
   "metadata": {},
   "outputs": [
    {
     "data": {
      "text/plain": [
       "True"
      ]
     },
     "execution_count": 122,
     "metadata": {},
     "output_type": "execute_result"
    }
   ],
   "source": [
    "\"a\" in set_var"
   ]
  },
  {
   "cell_type": "code",
   "execution_count": 124,
   "id": "efdba084-fda8-47b0-8a07-d2419dd36e69",
   "metadata": {},
   "outputs": [],
   "source": [
    "s={\"one\",\"two\",\"three\",\"four\"}"
   ]
  },
  {
   "cell_type": "code",
   "execution_count": 126,
   "id": "69281097-679d-4100-8906-00d250a346a4",
   "metadata": {},
   "outputs": [
    {
     "data": {
      "text/plain": [
       "{'four', 'one', 'six', 'three', 'two'}"
      ]
     },
     "execution_count": 126,
     "metadata": {},
     "output_type": "execute_result"
    }
   ],
   "source": [
    "s.add(\"six\")\n",
    "s"
   ]
  },
  {
   "cell_type": "code",
   "execution_count": 128,
   "id": "713dff11-1789-44d4-b986-6c8674b07f65",
   "metadata": {},
   "outputs": [
    {
     "data": {
      "text/plain": [
       "{'four', 'nine', 'one', 'seven', 'six', 'three', 'two'}"
      ]
     },
     "execution_count": 128,
     "metadata": {},
     "output_type": "execute_result"
    }
   ],
   "source": [
    "s.update([\"seven\",\"nine\"])\n",
    "s"
   ]
  },
  {
   "cell_type": "code",
   "execution_count": 130,
   "id": "8c417926-5118-4c5e-ab40-51a17bc492cf",
   "metadata": {},
   "outputs": [
    {
     "data": {
      "text/plain": [
       "{'four', 'nine', 'seven', 'six', 'three', 'two'}"
      ]
     },
     "execution_count": 130,
     "metadata": {},
     "output_type": "execute_result"
    }
   ],
   "source": [
    "s.remove(\"one\")\n",
    "s"
   ]
  },
  {
   "cell_type": "code",
   "execution_count": 1,
   "id": "e9b88f25-44ce-4ef5-b82d-53ddb7f6e277",
   "metadata": {},
   "outputs": [],
   "source": [
    "A={1,2,3,4,5}\n",
    "B={4,5,6,7,8}"
   ]
  },
  {
   "cell_type": "code",
   "execution_count": 3,
   "id": "19b89447-dddd-41bf-8aa4-90942eb645ff",
   "metadata": {},
   "outputs": [
    {
     "data": {
      "text/plain": [
       "{1, 2, 3, 4, 5, 6, 7, 8}"
      ]
     },
     "execution_count": 3,
     "metadata": {},
     "output_type": "execute_result"
    }
   ],
   "source": [
    "A.union(B) # returns all the elements in set A and Set B"
   ]
  },
  {
   "cell_type": "code",
   "execution_count": 5,
   "id": "1549ba50-f1ed-4d54-8d41-a2d08558d7be",
   "metadata": {},
   "outputs": [
    {
     "data": {
      "text/plain": [
       "{4, 5}"
      ]
     },
     "execution_count": 5,
     "metadata": {},
     "output_type": "execute_result"
    }
   ],
   "source": [
    "A.intersection(B) # returns the common element"
   ]
  },
  {
   "cell_type": "code",
   "execution_count": 7,
   "id": "1522047a-c26b-45f9-897f-56638c458930",
   "metadata": {},
   "outputs": [
    {
     "data": {
      "text/plain": [
       "{1, 2, 3}"
      ]
     },
     "execution_count": 7,
     "metadata": {},
     "output_type": "execute_result"
    }
   ],
   "source": [
    "A.difference(B) # returns all the value which are only in set A"
   ]
  },
  {
   "cell_type": "code",
   "execution_count": 9,
   "id": "d1e65e87-2409-48ee-8423-d8a104b20253",
   "metadata": {},
   "outputs": [
    {
     "data": {
      "text/plain": [
       "{6, 7, 8}"
      ]
     },
     "execution_count": 9,
     "metadata": {},
     "output_type": "execute_result"
    }
   ],
   "source": [
    "B.difference(A) # returns all the value which are only in set B"
   ]
  },
  {
   "cell_type": "code",
   "execution_count": 11,
   "id": "301dde08-f188-4125-8287-3d939fa09259",
   "metadata": {},
   "outputs": [],
   "source": [
    "del A"
   ]
  },
  {
   "cell_type": "code",
   "execution_count": 13,
   "id": "49798c1a-f1f3-470a-b3b8-cf5f0a3c98ef",
   "metadata": {},
   "outputs": [
    {
     "ename": "NameError",
     "evalue": "name 'A' is not defined",
     "output_type": "error",
     "traceback": [
      "\u001b[31m---------------------------------------------------------------------------\u001b[39m",
      "\u001b[31mNameError\u001b[39m                                 Traceback (most recent call last)",
      "\u001b[36mCell\u001b[39m\u001b[36m \u001b[39m\u001b[32mIn[13]\u001b[39m\u001b[32m, line 1\u001b[39m\n\u001b[32m----> \u001b[39m\u001b[32m1\u001b[39m A\n",
      "\u001b[31mNameError\u001b[39m: name 'A' is not defined"
     ]
    }
   ],
   "source": [
    "A"
   ]
  },
  {
   "cell_type": "markdown",
   "id": "227e9213-ccc5-4216-90cd-a4af982202f3",
   "metadata": {},
   "source": [
    "## Tuple Data Structure"
   ]
  },
  {
   "cell_type": "code",
   "execution_count": 21,
   "id": "b28f62df-0756-4344-9516-8478e602f074",
   "metadata": {},
   "outputs": [
    {
     "data": {
      "text/plain": [
       "tuple"
      ]
     },
     "execution_count": 21,
     "metadata": {},
     "output_type": "execute_result"
    }
   ],
   "source": [
    "t=(\"a\",3,\"d\",11.22)\n",
    "type(t)"
   ]
  },
  {
   "cell_type": "code",
   "execution_count": 27,
   "id": "07c89dcf-e5a9-49f6-8d87-22c67c68f0e2",
   "metadata": {
    "collapsed": true,
    "jupyter": {
     "outputs_hidden": true
    }
   },
   "outputs": [
    {
     "ename": "TypeError",
     "evalue": "'tuple' object does not support item assignment",
     "output_type": "error",
     "traceback": [
      "\u001b[31m---------------------------------------------------------------------------\u001b[39m",
      "\u001b[31mTypeError\u001b[39m                                 Traceback (most recent call last)",
      "\u001b[36mCell\u001b[39m\u001b[36m \u001b[39m\u001b[32mIn[27]\u001b[39m\u001b[32m, line 1\u001b[39m\n\u001b[32m----> \u001b[39m\u001b[32m1\u001b[39m t[\u001b[32m1\u001b[39m]=\u001b[32m200\u001b[39m\n",
      "\u001b[31mTypeError\u001b[39m: 'tuple' object does not support item assignment"
     ]
    }
   ],
   "source": [
    "t[1]=200 # tuple are immutable"
   ]
  },
  {
   "cell_type": "code",
   "execution_count": 33,
   "id": "4be5ecf0-31b5-4ad6-8eb2-f4b4197cda26",
   "metadata": {},
   "outputs": [
    {
     "data": {
      "text/plain": [
       "(11.22, 11.22, ('a', 'd'))"
      ]
     },
     "execution_count": 33,
     "metadata": {},
     "output_type": "execute_result"
    }
   ],
   "source": [
    "t[3],t[-1],t[0:4:2]"
   ]
  },
  {
   "cell_type": "code",
   "execution_count": null,
   "id": "29de225a-8921-4dbc-b1f9-da0630c5e5ba",
   "metadata": {},
   "outputs": [],
   "source": [
    "\"a\" in t"
   ]
  },
  {
   "cell_type": "code",
   "execution_count": null,
   "id": "08570ce1-4991-4517-98fa-cc707ec9316f",
   "metadata": {},
   "outputs": [],
   "source": [
    "\"d\" not in t"
   ]
  },
  {
   "cell_type": "code",
   "execution_count": 35,
   "id": "92a6758f-2f84-4804-af1f-482711bfd46e",
   "metadata": {},
   "outputs": [
    {
     "data": {
      "text/plain": [
       "2"
      ]
     },
     "execution_count": 35,
     "metadata": {},
     "output_type": "execute_result"
    }
   ],
   "source": [
    "t.index(\"d\")"
   ]
  },
  {
   "cell_type": "code",
   "execution_count": null,
   "id": "4ad28c46-5f0f-4597-ae6a-e31a9b8d6c1c",
   "metadata": {},
   "outputs": [],
   "source": [
    "t.count(\"a\")"
   ]
  },
  {
   "cell_type": "code",
   "execution_count": 37,
   "id": "3488295c-98ef-44ec-b804-d594981c0e92",
   "metadata": {},
   "outputs": [
    {
     "ename": "TypeError",
     "evalue": "'tuple' object doesn't support item deletion",
     "output_type": "error",
     "traceback": [
      "\u001b[31m---------------------------------------------------------------------------\u001b[39m",
      "\u001b[31mTypeError\u001b[39m                                 Traceback (most recent call last)",
      "\u001b[36mCell\u001b[39m\u001b[36m \u001b[39m\u001b[32mIn[37]\u001b[39m\u001b[32m, line 1\u001b[39m\n\u001b[32m----> \u001b[39m\u001b[32m1\u001b[39m \u001b[38;5;28;01mdel\u001b[39;00m t[\u001b[32m0\u001b[39m]\n",
      "\u001b[31mTypeError\u001b[39m: 'tuple' object doesn't support item deletion"
     ]
    }
   ],
   "source": [
    "del t[0] "
   ]
  },
  {
   "cell_type": "code",
   "execution_count": 39,
   "id": "7ca33d7b-4c28-4eb3-aacd-d3f4258ba12a",
   "metadata": {},
   "outputs": [],
   "source": [
    "del t # delete tuple obj"
   ]
  },
  {
   "cell_type": "markdown",
   "id": "cfa95f7f-51af-424c-b676-82b51f8bf711",
   "metadata": {},
   "source": [
    "## Data Structure-Dictionary-{key1:value1,key2:value2...}"
   ]
  },
  {
   "cell_type": "code",
   "execution_count": 43,
   "id": "3984a126-e68e-4eae-b2c6-b9ad4412d752",
   "metadata": {},
   "outputs": [
    {
     "data": {
      "text/plain": [
       "dict"
      ]
     },
     "execution_count": 43,
     "metadata": {},
     "output_type": "execute_result"
    }
   ],
   "source": [
    "d={1:\"amit\",2:\"divya\",\"place\":\"bangalore\",\"num_list\":[1,3,\"A\"]}\n",
    "type(d)"
   ]
  },
  {
   "cell_type": "code",
   "execution_count": 45,
   "id": "7d021560-dd50-4eed-8b33-dd52d9fc3df9",
   "metadata": {},
   "outputs": [],
   "source": [
    "emp={\"name\":\"john\",\"age\":23,\"city\":\"bangalore\"}"
   ]
  },
  {
   "cell_type": "code",
   "execution_count": 47,
   "id": "e7295bcd-edfb-43db-afe4-ef1509df4bf3",
   "metadata": {},
   "outputs": [
    {
     "data": {
      "text/plain": [
       "'john'"
      ]
     },
     "execution_count": 47,
     "metadata": {},
     "output_type": "execute_result"
    }
   ],
   "source": [
    "emp[\"name\"]   # var_name[key]"
   ]
  },
  {
   "cell_type": "code",
   "execution_count": null,
   "id": "17c607ae-fa0d-4c85-b547-9edfe84a3d2a",
   "metadata": {},
   "outputs": [],
   "source": [
    "emp[\"city\"]"
   ]
  },
  {
   "cell_type": "code",
   "execution_count": 49,
   "id": "35f2e8c0-9f15-4ff3-904e-28ef11ffa609",
   "metadata": {},
   "outputs": [],
   "source": [
    "emp[\"age\"]=30 # dictionary mutable"
   ]
  },
  {
   "cell_type": "code",
   "execution_count": 51,
   "id": "1e0e1f3e-4d92-43a4-a1bb-070fe5cfb5b1",
   "metadata": {},
   "outputs": [
    {
     "data": {
      "text/plain": [
       "{'name': 'john', 'age': 30, 'city': 'bangalore'}"
      ]
     },
     "execution_count": 51,
     "metadata": {},
     "output_type": "execute_result"
    }
   ],
   "source": [
    "emp"
   ]
  },
  {
   "cell_type": "code",
   "execution_count": 53,
   "id": "eb7f6af3-af45-4a72-ace5-709cb05a967d",
   "metadata": {},
   "outputs": [],
   "source": [
    "emp[\"dept\"]=\"HR\""
   ]
  },
  {
   "cell_type": "code",
   "execution_count": 55,
   "id": "d34478cb-b055-460b-8f2d-9031203d224d",
   "metadata": {},
   "outputs": [
    {
     "data": {
      "text/plain": [
       "{'name': 'john', 'age': 30, 'city': 'bangalore', 'dept': 'HR'}"
      ]
     },
     "execution_count": 55,
     "metadata": {},
     "output_type": "execute_result"
    }
   ],
   "source": [
    "emp"
   ]
  },
  {
   "cell_type": "code",
   "execution_count": 57,
   "id": "6e6199c5-7c00-4df8-8d46-2e1a2b563366",
   "metadata": {},
   "outputs": [
    {
     "data": {
      "text/plain": [
       "dict_keys(['name', 'age', 'city', 'dept'])"
      ]
     },
     "execution_count": 57,
     "metadata": {},
     "output_type": "execute_result"
    }
   ],
   "source": [
    "emp.keys()"
   ]
  },
  {
   "cell_type": "code",
   "execution_count": 59,
   "id": "f919f289-f672-4e1b-9b9d-ac62784bf465",
   "metadata": {},
   "outputs": [
    {
     "data": {
      "text/plain": [
       "dict_values(['john', 30, 'bangalore', 'HR'])"
      ]
     },
     "execution_count": 59,
     "metadata": {},
     "output_type": "execute_result"
    }
   ],
   "source": [
    "emp.values()"
   ]
  },
  {
   "cell_type": "code",
   "execution_count": 61,
   "id": "4374ce22-7f5d-42c2-9984-5bf730cf4d29",
   "metadata": {},
   "outputs": [
    {
     "data": {
      "text/plain": [
       "dict_items([('name', 'john'), ('age', 30), ('city', 'bangalore'), ('dept', 'HR')])"
      ]
     },
     "execution_count": 61,
     "metadata": {},
     "output_type": "execute_result"
    }
   ],
   "source": [
    "emp.items()"
   ]
  },
  {
   "cell_type": "code",
   "execution_count": 63,
   "id": "a5cd9855-a2a7-4490-b9cd-a7cc2dfc50ac",
   "metadata": {},
   "outputs": [
    {
     "data": {
      "text/plain": [
       "'bangalore'"
      ]
     },
     "execution_count": 63,
     "metadata": {},
     "output_type": "execute_result"
    }
   ],
   "source": [
    "emp.pop(\"city\")"
   ]
  },
  {
   "cell_type": "code",
   "execution_count": 65,
   "id": "2233675f-c560-4a6c-8288-3ac2f1b9ad97",
   "metadata": {},
   "outputs": [
    {
     "data": {
      "text/plain": [
       "{'name': 'john', 'age': 30, 'dept': 'HR'}"
      ]
     },
     "execution_count": 65,
     "metadata": {},
     "output_type": "execute_result"
    }
   ],
   "source": [
    "emp"
   ]
  },
  {
   "cell_type": "code",
   "execution_count": 67,
   "id": "a9d3e1b9-e19a-40db-94e5-f7fbaaee84c3",
   "metadata": {},
   "outputs": [],
   "source": [
    "del emp[\"age\"]"
   ]
  },
  {
   "cell_type": "code",
   "execution_count": 69,
   "id": "41c21451-7c8f-4c0e-88e5-ba194f734c8b",
   "metadata": {},
   "outputs": [
    {
     "data": {
      "text/plain": [
       "{'name': 'john', 'dept': 'HR'}"
      ]
     },
     "execution_count": 69,
     "metadata": {},
     "output_type": "execute_result"
    }
   ],
   "source": [
    "emp"
   ]
  },
  {
   "cell_type": "code",
   "execution_count": 71,
   "id": "8e33f67d-1c07-4cd2-b346-28bcc8b80156",
   "metadata": {},
   "outputs": [],
   "source": [
    "emp.update({\"salary\":10000,\"ph\":9900110044}) # add multiple key value pairs"
   ]
  },
  {
   "cell_type": "code",
   "execution_count": 73,
   "id": "502a6308-221f-4c1f-bf25-fc6b92867352",
   "metadata": {},
   "outputs": [
    {
     "data": {
      "text/plain": [
       "{'name': 'john', 'dept': 'HR', 'salary': 10000, 'ph': 9900110044}"
      ]
     },
     "execution_count": 73,
     "metadata": {},
     "output_type": "execute_result"
    }
   ],
   "source": [
    "emp"
   ]
  },
  {
   "cell_type": "code",
   "execution_count": 75,
   "id": "23fb53d5-4eb4-4865-a365-6c65f0ebfd75",
   "metadata": {},
   "outputs": [],
   "source": [
    "emp.clear() # returns the empty dictionary"
   ]
  },
  {
   "cell_type": "code",
   "execution_count": 77,
   "id": "0f14e820-4787-4a3c-a188-4c383883a243",
   "metadata": {},
   "outputs": [
    {
     "data": {
      "text/plain": [
       "{}"
      ]
     },
     "execution_count": 77,
     "metadata": {},
     "output_type": "execute_result"
    }
   ],
   "source": [
    "emp"
   ]
  },
  {
   "cell_type": "code",
   "execution_count": 89,
   "id": "ebe179eb-8739-483f-a4a8-eef79a7ce953",
   "metadata": {},
   "outputs": [
    {
     "data": {
      "text/plain": [
       "(list, list, list)"
      ]
     },
     "execution_count": 89,
     "metadata": {},
     "output_type": "execute_result"
    }
   ],
   "source": [
    "l1=[]\n",
    "l2=list()\n",
    "l3=list([1,2,4])\n",
    "type(l1),type(l2),type(l3)"
   ]
  },
  {
   "cell_type": "code",
   "execution_count": 87,
   "id": "67102adf-92fe-4b6e-9251-33a990ecbd22",
   "metadata": {},
   "outputs": [
    {
     "data": {
      "text/plain": [
       "(tuple, tuple, tuple)"
      ]
     },
     "execution_count": 87,
     "metadata": {},
     "output_type": "execute_result"
    }
   ],
   "source": [
    "t1=()\n",
    "t2=tuple()\n",
    "t3=tuple((1,4,5))\n",
    "type(t1),type(t2),type(t3)"
   ]
  },
  {
   "cell_type": "code",
   "execution_count": 93,
   "id": "7a78b3fd-fb31-442e-a314-11bf2483e73d",
   "metadata": {},
   "outputs": [
    {
     "data": {
      "text/plain": [
       "[1, 4, 5]"
      ]
     },
     "execution_count": 93,
     "metadata": {},
     "output_type": "execute_result"
    }
   ],
   "source": [
    "list(t3)"
   ]
  },
  {
   "cell_type": "code",
   "execution_count": 95,
   "id": "375eee26-961e-48c3-b850-a7ca78c9d450",
   "metadata": {},
   "outputs": [
    {
     "data": {
      "text/plain": [
       "(1, 2, 4)"
      ]
     },
     "execution_count": 95,
     "metadata": {},
     "output_type": "execute_result"
    }
   ],
   "source": [
    "tuple(l3)"
   ]
  },
  {
   "cell_type": "code",
   "execution_count": 99,
   "id": "5da4bceb-ecdc-4885-b67c-d9664f84af31",
   "metadata": {},
   "outputs": [
    {
     "data": {
      "text/plain": [
       "(dict, dict)"
      ]
     },
     "execution_count": 99,
     "metadata": {},
     "output_type": "execute_result"
    }
   ],
   "source": [
    "d={}\n",
    "d1=dict()\n",
    "type(d),type(d1)"
   ]
  },
  {
   "cell_type": "code",
   "execution_count": 101,
   "id": "836aaef0-a3e3-4f0f-962f-e76110539630",
   "metadata": {},
   "outputs": [
    {
     "data": {
      "text/plain": [
       "(set, set)"
      ]
     },
     "execution_count": 101,
     "metadata": {},
     "output_type": "execute_result"
    }
   ],
   "source": [
    "s=set()\n",
    "s1=set({1,2,4})\n",
    "type(s),type(s1)"
   ]
  },
  {
   "cell_type": "markdown",
   "id": "0fd553d9-1119-4d9e-ab12-ba5ecdf69768",
   "metadata": {},
   "source": [
    "## While loop"
   ]
  },
  {
   "cell_type": "code",
   "execution_count": 104,
   "id": "e6c9f390-65df-4591-b0ad-09214be52eda",
   "metadata": {},
   "outputs": [
    {
     "name": "stdout",
     "output_type": "stream",
     "text": [
      "harsha\n",
      "harsha\n",
      "harsha\n",
      "harsha\n",
      "harsha\n",
      "end of prog\n"
     ]
    }
   ],
   "source": [
    "count=0\n",
    "while count<5:\n",
    "    print(\"harsha\")\n",
    "    count=count+1\n",
    "print(\"end of prog\")"
   ]
  },
  {
   "cell_type": "code",
   "execution_count": 106,
   "id": "c32f9dfa-7a73-4ffe-84c4-5d519097cbc8",
   "metadata": {},
   "outputs": [
    {
     "name": "stdout",
     "output_type": "stream",
     "text": [
      "print the numbers from 0 to 10 using while loop\n",
      "0\n",
      "1\n",
      "2\n",
      "3\n",
      "4\n",
      "5\n",
      "6\n",
      "7\n",
      "8\n",
      "9\n",
      "10\n",
      "end of prog\n"
     ]
    }
   ],
   "source": [
    "print(\"print the numbers from 0 to 10 using while loop\")\n",
    "i=0\n",
    "while i<11:\n",
    "    print(i)\n",
    "    i=i+1\n",
    "print(\"end of prog\")\n",
    "    "
   ]
  },
  {
   "cell_type": "code",
   "execution_count": 108,
   "id": "eef34d92-b310-4aa2-9b0a-6144d936bf8a",
   "metadata": {},
   "outputs": [
    {
     "name": "stdout",
     "output_type": "stream",
     "text": [
      "print the square of numbers from 0 to 10 using while loop\n",
      "0\n",
      "1\n",
      "4\n",
      "9\n",
      "16\n",
      "25\n",
      "36\n",
      "49\n",
      "64\n",
      "81\n",
      "100\n",
      "end of prog\n"
     ]
    }
   ],
   "source": [
    "print(\"print the square of numbers from 0 to 10 using while loop\")\n",
    "i=0\n",
    "while i<11:\n",
    "    sq=i*i\n",
    "    print(sq)\n",
    "    i+=1 # i=i+1\n",
    "print(\"end of prog\")\n"
   ]
  },
  {
   "cell_type": "code",
   "execution_count": 110,
   "id": "c9692564-2b97-4ec1-8514-f51e2fe7077b",
   "metadata": {},
   "outputs": [
    {
     "name": "stdout",
     "output_type": "stream",
     "text": [
      "0\n",
      "1\n",
      "4\n",
      "9\n",
      "16\n",
      "25\n",
      "end of prog\n"
     ]
    }
   ],
   "source": [
    "\"\"\"print the square of numbers from 0 to 10 \n",
    "but if the square value is 25 stop/break the iterations\"\"\"\n",
    "\n",
    "i=0\n",
    "while i<11:\n",
    "    sq=i*i\n",
    "    print(sq)\n",
    "    if sq==25:\n",
    "        break # it stops the iteration/Terminate the loop when sq==25\n",
    "    i+=1 # i=i+1\n",
    "print(\"end of prog\")\n"
   ]
  },
  {
   "cell_type": "code",
   "execution_count": 120,
   "id": "38036ca3-f5aa-4667-9a29-98d040b17178",
   "metadata": {},
   "outputs": [
    {
     "name": "stdout",
     "output_type": "stream",
     "text": [
      "0\n",
      "1\n",
      "4\n",
      "****skip the iteration****\n",
      "16\n",
      "25\n",
      "****skip the iteration****\n",
      "****skip the iteration****\n",
      "64\n",
      "81\n",
      "100\n",
      "end of prog\n"
     ]
    }
   ],
   "source": [
    "\"\"\"print the square of numbers from 0 to 10 \n",
    "but if the square value is 9 ,36,64 skip the iterations\"\"\"\n",
    "\n",
    "i=0\n",
    "while i<11:\n",
    "    sq=i*i\n",
    "    \n",
    "    if sq==9 or sq==36 or sq==49:\n",
    "        print(\"****skip the iteration****\")\n",
    "        i=i+1\n",
    "        continue # it skips the current iteration when sq is 9,36,49\n",
    "    print(sq)\n",
    "    i=i+1\n",
    "     \n",
    "print(\"end of prog\")\n"
   ]
  },
  {
   "cell_type": "markdown",
   "id": "a0427555-9cc2-4bfc-9e8a-63142359e91b",
   "metadata": {},
   "source": []
  }
 ],
 "metadata": {
  "kernelspec": {
   "display_name": "Python 3 (ipykernel)",
   "language": "python",
   "name": "python3"
  },
  "language_info": {
   "codemirror_mode": {
    "name": "ipython",
    "version": 3
   },
   "file_extension": ".py",
   "mimetype": "text/x-python",
   "name": "python",
   "nbconvert_exporter": "python",
   "pygments_lexer": "ipython3",
   "version": "3.12.4"
  }
 },
 "nbformat": 4,
 "nbformat_minor": 5
}
